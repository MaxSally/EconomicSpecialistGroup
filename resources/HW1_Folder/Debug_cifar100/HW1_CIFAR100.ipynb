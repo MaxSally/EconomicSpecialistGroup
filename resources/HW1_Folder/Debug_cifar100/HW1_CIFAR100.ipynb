{
 "cells": [
  {
   "cell_type": "code",
   "execution_count": 1,
   "metadata": {},
   "outputs": [
    {
     "name": "stderr",
     "output_type": "stream",
     "text": [
      "Matplotlib created a temporary config/cache directory at /tmp/matplotlib-xitke0tj because the default path (/home/cse479/maxnguyen/.config/matplotlib) is not a writable directory; it is highly recommended to set the MPLCONFIGDIR environment variable to a writable directory, in particular to speed up the import of Matplotlib and to better support multiprocessing.\n"
     ]
    }
   ],
   "source": [
    "# We'll start with our library imports...\n",
    "from __future__ import print_function\n",
    "import pandas\n",
    "import seaborn as sn\n",
    "import numpy as np                 # to use numpy arrays\n",
    "import tensorflow as tf            # to specify and run computation graphs\n",
    "import tensorflow_datasets as tfds # to load training data\n",
    "import matplotlib.pyplot as plt    # to visualize data and draw plots\n",
    "from tqdm import tqdm              # to track progress of loops\n",
    "from keras.datasets import cifar100\n",
    "from keras import backend as k \n",
    "import keras\n",
    "from tensorflow.keras.models import Sequential\n",
    "from tensorflow.keras.layers import Dense, Flatten, Conv2D, MaxPooling2D, BatchNormalization, ReLU, Dropout\n",
    "\n"
   ]
  },
  {
   "cell_type": "code",
   "execution_count": 2,
   "metadata": {},
   "outputs": [],
   "source": [
    "(images, labels), (temp, temp1) = cifar100.load_data()\n",
    "temp = temp /255.0\n",
    "train_images, validation_images = images[45000:], images[:45000]\n",
    "train_labels, validation_labels = labels[45000:], labels[:45000]\n"
   ]
  },
  {
   "cell_type": "code",
   "execution_count": 3,
   "metadata": {},
   "outputs": [
    {
     "name": "stdout",
     "output_type": "stream",
     "text": [
      "[[85]\n",
      " [92]\n",
      " [66]\n",
      " ...\n",
      " [ 3]\n",
      " [ 7]\n",
      " [73]]\n"
     ]
    }
   ],
   "source": [
    "print(train_labels)"
   ]
  },
  {
   "cell_type": "code",
   "execution_count": 4,
   "metadata": {},
   "outputs": [],
   "source": [
    "img_rows, img_cols, img_width = 32, 32, 3\n",
    "  \n",
    "# if k.image_data_format() == 'channels_first': \n",
    "#    train_images = train_images.reshape(train_images.shape[0], 1, img_rows, img_cols, img_width) \n",
    "#    validation_images = validation_images.reshape(validation_images.shape[0], 1, img_rows, img_cols, img_width) \n",
    "#    inpx = (img_rows, img_cols, img_width)\n",
    "  \n",
    "# else: \n",
    "#    train_images = train_images.reshape(train_images.shape[0], img_rows, img_cols, img_width) \n",
    "#    validation_images = validation_images.reshape(validation_images.shape[0], img_rows, img_cols, img_width) \n",
    "#    inpx = (img_rows, img_cols, img_width) \n",
    "  \n",
    "train_images = train_images.astype('float32') \n",
    "validation_images = validation_images.astype('float32') \n",
    "images = images.astype('float32')\n",
    "images /= 255\n",
    "train_images /= 255\n",
    "validation_images /= 255\n",
    "temp /= 255"
   ]
  },
  {
   "cell_type": "code",
   "execution_count": 5,
   "metadata": {},
   "outputs": [
    {
     "name": "stdout",
     "output_type": "stream",
     "text": [
      "(5000, 100)\n"
     ]
    }
   ],
   "source": [
    "train_labels = keras.utils.to_categorical(train_labels)\n",
    "print(train_labels.shape)\n",
    "validation_labels = keras.utils.to_categorical(validation_labels)\n",
    "temp1 = keras.utils.to_categorical(temp1)\n",
    "labels = keras.utils.to_categorical(labels)"
   ]
  },
  {
   "cell_type": "code",
   "execution_count": 6,
   "metadata": {},
   "outputs": [],
   "source": [
    "input_shape = (img_rows, img_cols, img_width)"
   ]
  },
  {
   "cell_type": "code",
   "execution_count": 9,
   "metadata": {},
   "outputs": [
    {
     "name": "stdout",
     "output_type": "stream",
     "text": [
      "Model: \"sequential_2\"\n",
      "_________________________________________________________________\n",
      "Layer (type)                 Output Shape              Param #   \n",
      "=================================================================\n",
      "conv2d_12 (Conv2D)           (None, 32, 32, 32)        896       \n",
      "_________________________________________________________________\n",
      "conv2d_13 (Conv2D)           (None, 30, 30, 64)        18496     \n",
      "_________________________________________________________________\n",
      "max_pooling2d_10 (MaxPooling (None, 15, 15, 64)        0         \n",
      "_________________________________________________________________\n",
      "dropout_8 (Dropout)          (None, 15, 15, 64)        0         \n",
      "_________________________________________________________________\n",
      "conv2d_14 (Conv2D)           (None, 15, 15, 128)       73856     \n",
      "_________________________________________________________________\n",
      "max_pooling2d_11 (MaxPooling (None, 7, 7, 128)         0         \n",
      "_________________________________________________________________\n",
      "dropout_9 (Dropout)          (None, 7, 7, 128)         0         \n",
      "_________________________________________________________________\n",
      "conv2d_15 (Conv2D)           (None, 7, 7, 256)         295168    \n",
      "_________________________________________________________________\n",
      "max_pooling2d_12 (MaxPooling (None, 3, 3, 256)         0         \n",
      "_________________________________________________________________\n",
      "dropout_10 (Dropout)         (None, 3, 3, 256)         0         \n",
      "_________________________________________________________________\n",
      "conv2d_16 (Conv2D)           (None, 3, 3, 512)         1180160   \n",
      "_________________________________________________________________\n",
      "max_pooling2d_13 (MaxPooling (None, 1, 1, 512)         0         \n",
      "_________________________________________________________________\n",
      "dropout_11 (Dropout)         (None, 1, 1, 512)         0         \n",
      "_________________________________________________________________\n",
      "flatten (Flatten)            (None, 512)               0         \n",
      "_________________________________________________________________\n",
      "dense (Dense)                (None, 2048)              1050624   \n",
      "_________________________________________________________________\n",
      "dropout_12 (Dropout)         (None, 2048)              0         \n",
      "_________________________________________________________________\n",
      "dense_1 (Dense)              (None, 100)               204900    \n",
      "=================================================================\n",
      "Total params: 2,824,100\n",
      "Trainable params: 2,824,100\n",
      "Non-trainable params: 0\n",
      "_________________________________________________________________\n"
     ]
    }
   ],
   "source": [
    "# Create the model\n",
    "model = Sequential()\n",
    "model.add(Conv2D(32, (3, 3), padding='same',\n",
    "        input_shape=images.shape[1:], activation='elu'))\n",
    "model.add(Conv2D(64, (3, 3), activation='elu'))\n",
    "model.add(MaxPooling2D(pool_size=(2, 2)))\n",
    "model.add(Dropout(0.1))\n",
    "model.add(Conv2D(128, (3, 3), padding='same', activation='elu'))\n",
    "model.add(MaxPooling2D(pool_size=(2, 2)))\n",
    "model.add(Dropout(0.1))\n",
    "model.add(Conv2D(256, (3, 3), padding='same', activation='elu'))\n",
    "model.add(MaxPooling2D(pool_size=(2, 2)))\n",
    "model.add(Dropout(0.1))\n",
    "model.add(Conv2D(512, (3, 3), padding='same', activation='elu'))\n",
    "model.add(MaxPooling2D(pool_size=(2, 2)))\n",
    "model.add(Dropout(0.1))\n",
    "model.add(Flatten())\n",
    "model.add(Dense(2048, activation='elu'))\n",
    "model.add(Dropout(0.1))\n",
    "model.add(Dense(100, activation='softmax'))\n",
    "model.summary()"
   ]
  },
  {
   "cell_type": "code",
   "execution_count": 10,
   "metadata": {},
   "outputs": [
    {
     "name": "stdout",
     "output_type": "stream",
     "text": [
      "Epoch 1/100\n",
      "157/157 [==============================] - 37s 235ms/step - loss: 4.3723 - accuracy: 0.0470 - val_loss: 4.0743 - val_accuracy: 0.0810\n",
      "Epoch 2/100\n",
      "157/157 [==============================] - 12s 74ms/step - loss: 3.9148 - accuracy: 0.0984 - val_loss: 3.8908 - val_accuracy: 0.1082\n",
      "Epoch 3/100\n",
      "157/157 [==============================] - 12s 74ms/step - loss: 3.5615 - accuracy: 0.1622 - val_loss: 3.7786 - val_accuracy: 0.1399\n",
      "Epoch 4/100\n",
      "157/157 [==============================] - 12s 74ms/step - loss: 3.1073 - accuracy: 0.2390 - val_loss: 3.4780 - val_accuracy: 0.1878\n",
      "Epoch 5/100\n",
      "157/157 [==============================] - 12s 74ms/step - loss: 2.5586 - accuracy: 0.3442 - val_loss: 3.7839 - val_accuracy: 0.1811\n",
      "Epoch 6/100\n",
      "157/157 [==============================] - 12s 74ms/step - loss: 1.9196 - accuracy: 0.4872 - val_loss: 3.9151 - val_accuracy: 0.2166\n",
      "Epoch 7/100\n",
      "157/157 [==============================] - 12s 74ms/step - loss: 1.2924 - accuracy: 0.6400 - val_loss: 4.9195 - val_accuracy: 0.1885\n",
      "Epoch 8/100\n",
      "157/157 [==============================] - 12s 74ms/step - loss: 0.9259 - accuracy: 0.7440 - val_loss: 5.7558 - val_accuracy: 0.1849\n",
      "Epoch 9/100\n",
      "157/157 [==============================] - 12s 74ms/step - loss: 0.7401 - accuracy: 0.7940 - val_loss: 6.3348 - val_accuracy: 0.1851\n",
      "Epoch 10/100\n",
      "157/157 [==============================] - 12s 74ms/step - loss: 0.7559 - accuracy: 0.7958 - val_loss: 7.0535 - val_accuracy: 0.1904\n",
      "Epoch 11/100\n",
      "157/157 [==============================] - 12s 74ms/step - loss: 0.6278 - accuracy: 0.8360 - val_loss: 8.2236 - val_accuracy: 0.1680\n",
      "Epoch 12/100\n",
      "157/157 [==============================] - 12s 74ms/step - loss: 0.6798 - accuracy: 0.8292 - val_loss: 9.2520 - val_accuracy: 0.1763\n",
      "Epoch 13/100\n",
      "157/157 [==============================] - 12s 74ms/step - loss: 0.7570 - accuracy: 0.8276 - val_loss: 10.2896 - val_accuracy: 0.1684\n",
      "Epoch 14/100\n",
      "157/157 [==============================] - 12s 74ms/step - loss: 0.6440 - accuracy: 0.8554 - val_loss: 9.7877 - val_accuracy: 0.1859\n"
     ]
    }
   ],
   "source": [
    "# using Sequential groups all the layers to run at once\n",
    "\n",
    "optimizer = tf.keras.optimizers.Adam()\n",
    "model.compile(optimizer=optimizer, loss='categorical_crossentropy', metrics=['accuracy'])\n",
    "es = keras.callbacks.EarlyStopping(monitor='val_loss', patience = 10)\n",
    "history = model.fit(train_images, train_labels, batch_size = 32, epochs=100, validation_data=(validation_images, validation_labels), callbacks = [es], shuffle=True, use_multiprocessing=(True))"
   ]
  },
  {
   "cell_type": "code",
   "execution_count": 11,
   "metadata": {},
   "outputs": [
    {
     "name": "stdout",
     "output_type": "stream",
     "text": [
      "1407/1407 [==============================] - 9s 7ms/step - loss: 9.7877 - accuracy: 0.1859\n"
     ]
    },
    {
     "data": {
      "text/plain": [
       "[9.787680625915527, 0.18586666882038116]"
      ]
     },
     "execution_count": 11,
     "metadata": {},
     "output_type": "execute_result"
    }
   ],
   "source": [
    "model.evaluate(validation_images, validation_labels)\n"
   ]
  },
  {
   "cell_type": "code",
   "execution_count": 12,
   "metadata": {},
   "outputs": [
    {
     "name": "stdout",
     "output_type": "stream",
     "text": [
      "313/313 [==============================] - 14s 43ms/step - loss: 14.7434 - accuracy: 0.0100\n"
     ]
    },
    {
     "data": {
      "text/plain": [
       "[14.743430137634277, 0.009999999776482582]"
      ]
     },
     "execution_count": 12,
     "metadata": {},
     "output_type": "execute_result"
    }
   ],
   "source": [
    "model.evaluate(temp, temp1)\n"
   ]
  },
  {
   "cell_type": "code",
   "execution_count": 13,
   "metadata": {},
   "outputs": [
    {
     "data": {
      "image/png": "[encoded data removed]",
      "text/plain": [
       "<Figure size 432x288 with 1 Axes>"
      ]
     },
     "metadata": {
      "needs_background": "light"
     },
     "output_type": "display_data"
    }
   ],
   "source": [
    "plt.plot(history.history['accuracy'])\n",
    "plt.plot(history.history['val_accuracy'])\n",
    "plt.title('model accuracy')\n",
    "plt.ylabel('accuracy')\n",
    "plt.xlabel('epoch')\n",
    "plt.legend(['train', 'val'], loc='upper left')\n",
    "plt.show()"
   ]
  },
  {
   "cell_type": "code",
   "execution_count": 14,
   "metadata": {},
   "outputs": [
    {
     "data": {
      "image/png": "[encoded data removed]",
      "text/plain": [
       "<Figure size 432x288 with 1 Axes>"
      ]
     },
     "metadata": {
      "needs_background": "light"
     },
     "output_type": "display_data"
    }
   ],
   "source": [
    "plt.plot(history.history['loss'])\n",
    "plt.plot(history.history['val_loss'])\n",
    "plt.title('model loss')\n",
    "plt.ylabel('loss')\n",
    "plt.xlabel('epoch')\n",
    "plt.legend(['train', 'val'], loc='upper left')\n",
    "plt.show()"
   ]
  },
  {
   "cell_type": "code",
   "execution_count": null,
   "metadata": {},
   "outputs": [],
   "source": [
    "tf.saved_model.save(model, 'homework1/cifar100-brute')"
   ]
  },
  {
   "cell_type": "code",
   "execution_count": null,
   "metadata": {},
   "outputs": [],
   "source": []
  }
 ],
 "metadata": {
  "kernelspec": {
   "display_name": "Python (tensorflow-env)",
   "language": "python",
   "name": "tensorflow-env"
  },
  "language_info": {
   "codemirror_mode": {
    "name": "ipython",
    "version": 3
   },
   "file_extension": ".py",
   "mimetype": "text/x-python",
   "name": "python",
   "nbconvert_exporter": "python",
   "pygments_lexer": "ipython3",
   "version": "3.8.6"
  }
 },
 "nbformat": 4,
 "nbformat_minor": 2
}
