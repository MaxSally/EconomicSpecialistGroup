{
 "cells": [
  {
   "cell_type": "code",
   "execution_count": 1,
   "metadata": {},
   "outputs": [
    {
     "name": "stderr",
     "output_type": "stream",
     "text": [
      "Matplotlib created a temporary config/cache directory at /tmp/matplotlib-dxdj8iq1 because the default path (/home/cse479/maxnguyen/.config/matplotlib) is not a writable directory; it is highly recommended to set the MPLCONFIGDIR environment variable to a writable directory, in particular to speed up the import of Matplotlib and to better support multiprocessing.\n"
     ]
    }
   ],
   "source": [
    "# We'll start with our library imports...\n",
    "from __future__ import print_function\n",
    "import pandas\n",
    "import seaborn as sn\n",
    "import numpy as np                 # to use numpy arrays\n",
    "import tensorflow as tf            # to specify and run computation graphs\n",
    "import tensorflow_datasets as tfds # to load training data\n",
    "import matplotlib.pyplot as plt    # to visualize data and draw plots\n",
    "from tqdm import tqdm              # to track progress of loops\n",
    "from keras.datasets import cifar100\n",
    "from keras import backend as k \n",
    "import keras\n",
    "from tensorflow.keras.models import Sequential\n",
    "from tensorflow.keras.layers import Dense, Flatten, Conv2D, MaxPooling2D, BatchNormalization, ReLU, Dropout\n",
    "from functools import partial\n"
   ]
  },
  {
   "cell_type": "code",
   "execution_count": 2,
   "metadata": {},
   "outputs": [],
   "source": [
    "(images, labels), (temp, temp1) = cifar100.load_data()\n",
    "temp = temp /255.0\n",
    "train_images, validation_images = images[45000:], images[:45000]\n",
    "train_labels, validation_labels = labels[45000:], labels[:45000]\n"
   ]
  },
  {
   "cell_type": "code",
   "execution_count": 3,
   "metadata": {},
   "outputs": [
    {
     "name": "stdout",
     "output_type": "stream",
     "text": [
      "[[85]\n",
      " [92]\n",
      " [66]\n",
      " ...\n",
      " [ 3]\n",
      " [ 7]\n",
      " [73]]\n"
     ]
    }
   ],
   "source": [
    "print(train_labels)"
   ]
  },
  {
   "cell_type": "code",
   "execution_count": 4,
   "metadata": {},
   "outputs": [],
   "source": [
    "img_rows, img_cols, img_width = 32, 32, 3\n",
    "  \n",
    "# if k.image_data_format() == 'channels_first': \n",
    "#    train_images = train_images.reshape(train_images.shape[0], 1, img_rows, img_cols, img_width) \n",
    "#    validation_images = validation_images.reshape(validation_images.shape[0], 1, img_rows, img_cols, img_width) \n",
    "#    inpx = (img_rows, img_cols, img_width)\n",
    "  \n",
    "# else: \n",
    "#    train_images = train_images.reshape(train_images.shape[0], img_rows, img_cols, img_width) \n",
    "#    validation_images = validation_images.reshape(validation_images.shape[0], img_rows, img_cols, img_width) \n",
    "#    inpx = (img_rows, img_cols, img_width) \n",
    "  \n",
    "train_images = train_images.astype('float32') \n",
    "validation_images = validation_images.astype('float32') \n",
    "train_images /= 255\n",
    "validation_images /= 255\n",
    "temp /= 255"
   ]
  },
  {
   "cell_type": "code",
   "execution_count": 5,
   "metadata": {},
   "outputs": [
    {
     "name": "stdout",
     "output_type": "stream",
     "text": [
      "(5000, 100)\n"
     ]
    }
   ],
   "source": [
    "train_labels = keras.utils.to_categorical(train_labels)\n",
    "print(train_labels.shape)\n",
    "validation_labels = keras.utils.to_categorical(validation_labels)\n",
    "temp1 = keras.utils.to_categorical(temp1)"
   ]
  },
  {
   "cell_type": "code",
   "execution_count": 6,
   "metadata": {},
   "outputs": [],
   "source": [
    "input_shape = (img_rows, img_cols, img_width)"
   ]
  },
  {
   "cell_type": "code",
   "execution_count": 7,
   "metadata": {},
   "outputs": [],
   "source": [
    "DefaultConv2D = partial(keras.layers.Conv2D, kernel_size=3, strides=1, padding=\"SAME\", use_bias=False)\n",
    "class ResidualUnit(keras.layers.Layer):\n",
    "    def __init__(self, filters, strides=1, activation=\"relu\", **kwargs):\n",
    "        super().__init__(**kwargs)\n",
    "        self.activation = keras.activations.get(activation)\n",
    "        self.main_layers = [\n",
    "        DefaultConv2D(filters, strides=strides),\n",
    "        keras.layers.BatchNormalization(),\n",
    "        self.activation,\n",
    "        DefaultConv2D(filters),\n",
    "        keras.layers.BatchNormalization()]\n",
    "        self.skip_layers = []\n",
    "        if strides > 1:\n",
    "            self.skip_layers = [\n",
    "            DefaultConv2D(filters, kernel_size=1, strides=strides),\n",
    "            keras.layers.BatchNormalization()]\n",
    "    def call(self, inputs):\n",
    "        Z = inputs\n",
    "        for layer in self.main_layers:\n",
    "            Z = layer(Z)\n",
    "            skip_Z = inputs\n",
    "            for layer in self.skip_layers:\n",
    "                skip_Z = layer(skip_Z)\n",
    "        return self.activation(Z + skip_Z)"
   ]
  },
  {
   "cell_type": "code",
   "execution_count": 8,
   "metadata": {},
   "outputs": [],
   "source": [
    "class ResBlock(keras.layers.Layer):\n",
    "\n",
    "    def __init__(self, filter_num, stride=1):\n",
    "        super().__init__()\n",
    "        self.stride = stride\n",
    "\n",
    "        # Both self.conv1 and self.down_conv layers downsample the input when stride != 1\n",
    "        self.bn1 = tf.keras.layers.BatchNormalization()\n",
    "        self.conv1 = tf.keras.layers.Conv2D(filters=filter_num,\n",
    "                                            kernel_size=(3, 3),\n",
    "                                            strides=stride,\n",
    "                                            padding=\"same\")\n",
    "        self.bn2 = tf.keras.layers.BatchNormalization()\n",
    "        self.conv2 = tf.keras.layers.Conv2D(filters=filter_num,\n",
    "                                            kernel_size=(3, 3),\n",
    "                                            padding=\"same\")\n",
    "\n",
    "        if self.stride != 1:\n",
    "            self.down_conv = tf.keras.layers.Conv2D(filters=filter_num,\n",
    "                                                    kernel_size=(1, 1),\n",
    "                                                    strides=stride,\n",
    "                                                    padding=\"same\")\n",
    "            self.down_bn = tf.keras.layers.BatchNormalization()\n",
    "\n",
    "    def __call__(self, x, is_training = True):\n",
    "        identity = x\n",
    "        if self.stride != 1:\n",
    "            identity = self.down_conv(identity)\n",
    "            identity = self.down_bn(identity, training=is_training)\n",
    "\n",
    "        x = self.bn1(x, training=is_training)\n",
    "        x = tf.nn.relu(x)\n",
    "        x = self.conv1(x)\n",
    "        \n",
    "        \n",
    "        x = self.bn2(x, training=is_training)\n",
    "        x = tf.nn.relu(x)\n",
    "        x = self.conv2(x)\n",
    "\n",
    "        return x + identity"
   ]
  },
  {
   "cell_type": "code",
   "execution_count": 17,
   "metadata": {},
   "outputs": [
    {
     "name": "stdout",
     "output_type": "stream",
     "text": [
      "Model: \"sequential_2\"\n",
      "_________________________________________________________________\n",
      "Layer (type)                 Output Shape              Param #   \n",
      "=================================================================\n",
      "conv2d_52 (Conv2D)           (None, 16, 16, 64)        9408      \n",
      "_________________________________________________________________\n",
      "batch_normalization_52 (Batc (None, 16, 16, 64)        256       \n",
      "_________________________________________________________________\n",
      "activation_2 (Activation)    (None, 16, 16, 64)        0         \n",
      "_________________________________________________________________\n",
      "max_pooling2d_2 (MaxPooling2 (None, 8, 8, 64)          0         \n",
      "_________________________________________________________________\n",
      "batch_normalization_53 (Batc (None, 8, 8, 64)          256       \n",
      "_________________________________________________________________\n",
      "tf_op_layer_Relu_44 (TensorF [(None, 8, 8, 64)]        0         \n",
      "_________________________________________________________________\n",
      "conv2d_53 (Conv2D)           (None, 8, 8, 64)          36928     \n",
      "_________________________________________________________________\n",
      "batch_normalization_54 (Batc (None, 8, 8, 64)          256       \n",
      "_________________________________________________________________\n",
      "tf_op_layer_Relu_45 (TensorF [(None, 8, 8, 64)]        0         \n",
      "_________________________________________________________________\n",
      "conv2d_54 (Conv2D)           (None, 8, 8, 64)          36928     \n",
      "_________________________________________________________________\n",
      "tf_op_layer_AddV2_22 (Tensor [(None, 8, 8, 64)]        0         \n",
      "_________________________________________________________________\n",
      "batch_normalization_55 (Batc (None, 8, 8, 64)          256       \n",
      "_________________________________________________________________\n",
      "tf_op_layer_Relu_46 (TensorF [(None, 8, 8, 64)]        0         \n",
      "_________________________________________________________________\n",
      "conv2d_55 (Conv2D)           (None, 8, 8, 64)          36928     \n",
      "_________________________________________________________________\n",
      "batch_normalization_56 (Batc (None, 8, 8, 64)          256       \n",
      "_________________________________________________________________\n",
      "tf_op_layer_Relu_47 (TensorF [(None, 8, 8, 64)]        0         \n",
      "_________________________________________________________________\n",
      "conv2d_56 (Conv2D)           (None, 8, 8, 64)          36928     \n",
      "_________________________________________________________________\n",
      "tf_op_layer_AddV2_23 (Tensor [(None, 8, 8, 64)]        0         \n",
      "_________________________________________________________________\n",
      "batch_normalization_57 (Batc (None, 8, 8, 64)          256       \n",
      "_________________________________________________________________\n",
      "tf_op_layer_Relu_48 (TensorF [(None, 8, 8, 64)]        0         \n",
      "_________________________________________________________________\n",
      "conv2d_57 (Conv2D)           (None, 4, 4, 128)         73856     \n",
      "_________________________________________________________________\n",
      "batch_normalization_58 (Batc (None, 4, 4, 128)         512       \n",
      "_________________________________________________________________\n",
      "tf_op_layer_Relu_49 (TensorF [(None, 4, 4, 128)]       0         \n",
      "_________________________________________________________________\n",
      "conv2d_59 (Conv2D)           (None, 4, 4, 128)         8320      \n",
      "_________________________________________________________________\n",
      "conv2d_58 (Conv2D)           (None, 4, 4, 128)         147584    \n",
      "_________________________________________________________________\n",
      "batch_normalization_59 (Batc (None, 4, 4, 128)         512       \n",
      "_________________________________________________________________\n",
      "tf_op_layer_AddV2_24 (Tensor [(None, 4, 4, 128)]       0         \n",
      "_________________________________________________________________\n",
      "batch_normalization_60 (Batc (None, 4, 4, 128)         512       \n",
      "_________________________________________________________________\n",
      "tf_op_layer_Relu_50 (TensorF [(None, 4, 4, 128)]       0         \n",
      "_________________________________________________________________\n",
      "conv2d_60 (Conv2D)           (None, 4, 4, 128)         147584    \n",
      "_________________________________________________________________\n",
      "batch_normalization_61 (Batc (None, 4, 4, 128)         512       \n",
      "_________________________________________________________________\n",
      "tf_op_layer_Relu_51 (TensorF [(None, 4, 4, 128)]       0         \n",
      "_________________________________________________________________\n",
      "conv2d_61 (Conv2D)           (None, 4, 4, 128)         147584    \n",
      "_________________________________________________________________\n",
      "tf_op_layer_AddV2_25 (Tensor [(None, 4, 4, 128)]       0         \n",
      "_________________________________________________________________\n",
      "batch_normalization_62 (Batc (None, 4, 4, 128)         512       \n",
      "_________________________________________________________________\n",
      "tf_op_layer_Relu_52 (TensorF [(None, 4, 4, 128)]       0         \n",
      "_________________________________________________________________\n",
      "conv2d_62 (Conv2D)           (None, 2, 2, 256)         295168    \n",
      "_________________________________________________________________\n",
      "batch_normalization_63 (Batc (None, 2, 2, 256)         1024      \n",
      "_________________________________________________________________\n",
      "tf_op_layer_Relu_53 (TensorF [(None, 2, 2, 256)]       0         \n",
      "_________________________________________________________________\n",
      "conv2d_64 (Conv2D)           (None, 2, 2, 256)         33024     \n",
      "_________________________________________________________________\n",
      "conv2d_63 (Conv2D)           (None, 2, 2, 256)         590080    \n",
      "_________________________________________________________________\n",
      "batch_normalization_64 (Batc (None, 2, 2, 256)         1024      \n",
      "_________________________________________________________________\n",
      "tf_op_layer_AddV2_26 (Tensor [(None, 2, 2, 256)]       0         \n",
      "_________________________________________________________________\n",
      "batch_normalization_65 (Batc (None, 2, 2, 256)         1024      \n",
      "_________________________________________________________________\n",
      "tf_op_layer_Relu_54 (TensorF [(None, 2, 2, 256)]       0         \n",
      "_________________________________________________________________\n",
      "conv2d_65 (Conv2D)           (None, 2, 2, 256)         590080    \n",
      "_________________________________________________________________\n",
      "batch_normalization_66 (Batc (None, 2, 2, 256)         1024      \n",
      "_________________________________________________________________\n",
      "tf_op_layer_Relu_55 (TensorF [(None, 2, 2, 256)]       0         \n",
      "_________________________________________________________________\n",
      "conv2d_66 (Conv2D)           (None, 2, 2, 256)         590080    \n",
      "_________________________________________________________________\n",
      "tf_op_layer_AddV2_27 (Tensor [(None, 2, 2, 256)]       0         \n",
      "_________________________________________________________________\n",
      "batch_normalization_67 (Batc (None, 2, 2, 256)         1024      \n",
      "_________________________________________________________________\n",
      "tf_op_layer_Relu_56 (TensorF [(None, 2, 2, 256)]       0         \n",
      "_________________________________________________________________\n",
      "conv2d_67 (Conv2D)           (None, 1, 1, 512)         1180160   \n",
      "_________________________________________________________________\n",
      "batch_normalization_68 (Batc (None, 1, 1, 512)         2048      \n",
      "_________________________________________________________________\n",
      "tf_op_layer_Relu_57 (TensorF [(None, 1, 1, 512)]       0         \n",
      "_________________________________________________________________\n",
      "conv2d_69 (Conv2D)           (None, 1, 1, 512)         131584    \n",
      "_________________________________________________________________\n",
      "conv2d_68 (Conv2D)           (None, 1, 1, 512)         2359808   \n",
      "_________________________________________________________________\n",
      "batch_normalization_69 (Batc (None, 1, 1, 512)         2048      \n",
      "_________________________________________________________________\n",
      "tf_op_layer_AddV2_28 (Tensor [(None, 1, 1, 512)]       0         \n",
      "_________________________________________________________________\n",
      "batch_normalization_70 (Batc (None, 1, 1, 512)         2048      \n",
      "_________________________________________________________________\n",
      "tf_op_layer_Relu_58 (TensorF [(None, 1, 1, 512)]       0         \n",
      "_________________________________________________________________\n",
      "conv2d_70 (Conv2D)           (None, 1, 1, 512)         2359808   \n",
      "_________________________________________________________________\n",
      "batch_normalization_71 (Batc (None, 1, 1, 512)         2048      \n",
      "_________________________________________________________________\n",
      "tf_op_layer_Relu_59 (TensorF [(None, 1, 1, 512)]       0         \n",
      "_________________________________________________________________\n",
      "conv2d_71 (Conv2D)           (None, 1, 1, 512)         2359808   \n",
      "_________________________________________________________________\n",
      "tf_op_layer_AddV2_29 (Tensor [(None, 1, 1, 512)]       0         \n",
      "_________________________________________________________________\n",
      "global_average_pooling2d_2 ( (None, 512)               0         \n",
      "_________________________________________________________________\n",
      "flatten_2 (Flatten)          (None, 512)               0         \n",
      "_________________________________________________________________\n",
      "dense_2 (Dense)              (None, 100)               51300     \n",
      "=================================================================\n",
      "Total params: 11,240,356\n",
      "Trainable params: 11,231,652\n",
      "Non-trainable params: 8,704\n",
      "_________________________________________________________________\n"
     ]
    }
   ],
   "source": [
    "model = keras.models.Sequential()\n",
    "model.add(DefaultConv2D(64, kernel_size=7, strides=2,\n",
    "input_shape=input_shape))\n",
    "model.add(keras.layers.BatchNormalization())\n",
    "model.add(keras.layers.Activation(\"relu\"))\n",
    "model.add(keras.layers.MaxPool2D(pool_size=3, strides=2, padding=\"SAME\"))\n",
    "prev_filters = 64\n",
    "for filters in [64] * 2 + [128] * 2 + [256] * 2 + [512] * 2:\n",
    "    strides = 1 if filters == prev_filters else 2\n",
    "    model.add(ResBlock(filters, stride=strides))\n",
    "    prev_filters = filters\n",
    "model.add(keras.layers.GlobalAvgPool2D())\n",
    "model.add(keras.layers.Flatten())\n",
    "model.add(keras.layers.Dense(100, activation=\"softmax\"))\n",
    "model.summary()"
   ]
  },
  {
   "cell_type": "code",
   "execution_count": null,
   "metadata": {},
   "outputs": [
    {
     "name": "stdout",
     "output_type": "stream",
     "text": [
      "Epoch 1/100\n",
      "156/157 [============================>.] - ETA: 0s - loss: 4.9992 - accuracy: 0.0469"
     ]
    }
   ],
   "source": [
    "# using Sequential groups all the layers to run at once\n",
    "\n",
    "optimizer = tf.keras.optimizers.Adam()\n",
    "model.compile(optimizer=optimizer, loss='categorical_crossentropy', metrics=['accuracy'])\n",
    "es = keras.callbacks.EarlyStopping(monitor='val_loss', patience = 10)\n",
    "history = model.fit(train_images, train_labels, batch_size = 32, epochs=100, validation_data=(validation_images, validation_labels), callbacks = [es], shuffle=True, use_multiprocessing=(True))"
   ]
  },
  {
   "cell_type": "code",
   "execution_count": 13,
   "metadata": {},
   "outputs": [
    {
     "name": "stdout",
     "output_type": "stream",
     "text": [
      "1407/1407 [==============================] - 31s 22ms/step - loss: 5.8013 - accuracy: 0.1885\n"
     ]
    },
    {
     "data": {
      "text/plain": [
       "[5.801265239715576, 0.18853333592414856]"
      ]
     },
     "execution_count": 13,
     "metadata": {},
     "output_type": "execute_result"
    }
   ],
   "source": [
    "model.evaluate(validation_images, validation_labels)\n"
   ]
  },
  {
   "cell_type": "code",
   "execution_count": 14,
   "metadata": {},
   "outputs": [
    {
     "name": "stdout",
     "output_type": "stream",
     "text": [
      "313/313 [==============================] - 27s 87ms/step - loss: 7.3978 - accuracy: 0.0953\n"
     ]
    },
    {
     "data": {
      "text/plain": [
       "[7.397806167602539, 0.09529999643564224]"
      ]
     },
     "execution_count": 14,
     "metadata": {},
     "output_type": "execute_result"
    }
   ],
   "source": [
    "model.evaluate(temp, temp1)"
   ]
  },
  {
   "cell_type": "code",
   "execution_count": 15,
   "metadata": {},
   "outputs": [
    {
     "data": {
      "image/png": "[encoded data removed]",
      "text/plain": [
       "<Figure size 432x288 with 1 Axes>"
      ]
     },
     "metadata": {
      "needs_background": "light"
     },
     "output_type": "display_data"
    }
   ],
   "source": [
    "plt.plot(history.history['accuracy'])\n",
    "plt.plot(history.history['val_accuracy'])\n",
    "plt.title('model accuracy')\n",
    "plt.ylabel('accuracy')\n",
    "plt.xlabel('epoch')\n",
    "plt.legend(['train', 'val'], loc='upper left')\n",
    "plt.show()"
   ]
  },
  {
   "cell_type": "code",
   "execution_count": 16,
   "metadata": {},
   "outputs": [
    {
     "data": {
      "image/png": "[encoded data removed]",
      "text/plain": [
       "<Figure size 432x288 with 1 Axes>"
      ]
     },
     "metadata": {
      "needs_background": "light"
     },
     "output_type": "display_data"
    }
   ],
   "source": [
    "plt.plot(history.history['loss'])\n",
    "plt.plot(history.history['val_loss'])\n",
    "plt.title('model loss')\n",
    "plt.ylabel('loss')\n",
    "plt.xlabel('epoch')\n",
    "plt.legend(['train', 'val'], loc='upper left')\n",
    "plt.show()"
   ]
  },
  {
   "cell_type": "code",
   "execution_count": null,
   "metadata": {},
   "outputs": [],
   "source": [
    "tf.saved_model.save(model, 'homework1/cifar100')"
   ]
  },
  {
   "cell_type": "code",
   "execution_count": null,
   "metadata": {},
   "outputs": [],
   "source": []
  }
 ],
 "metadata": {
  "kernelspec": {
   "display_name": "Python (tensorflow-env)",
   "language": "python",
   "name": "tensorflow-env"
  },
  "language_info": {
   "codemirror_mode": {
    "name": "ipython",
    "version": 3
   },
   "file_extension": ".py",
   "mimetype": "text/x-python",
   "name": "python",
   "nbconvert_exporter": "python",
   "pygments_lexer": "ipython3",
   "version": "3.8.6"
  }
 },
 "nbformat": 4,
 "nbformat_minor": 2
}
