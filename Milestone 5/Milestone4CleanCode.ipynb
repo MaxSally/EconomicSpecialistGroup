{
  "nbformat": 4,
  "nbformat_minor": 0,
  "metadata": {
    "colab": {
      "name": "Milestone4CleanCode.ipynb",
      "provenance": [],
      "collapsed_sections": []
    },
    "kernelspec": {
      "display_name": "Python (tensorflow-env)",
      "language": "python",
      "name": "tensorflow-env"
    },
    "language_info": {
      "codemirror_mode": {
        "name": "ipython",
        "version": 3
      },
      "file_extension": ".py",
      "mimetype": "text/x-python",
      "name": "python",
      "nbconvert_exporter": "python",
      "pygments_lexer": "ipython3",
      "version": "3.8.6"
    }
  },
  "cells": [
    {
      "cell_type": "code",
      "metadata": {
        "id": "4Q8QA95OvAwW",
        "colab": {
          "base_uri": "https://localhost:8080/"
        },
        "outputId": "b94dcf98-6961-4a22-9869-4f1ce9db51ea"
      },
      "source": [
        "from __future__ import print_function\n",
        "\n",
        "import numpy as np                 # to use numpy arrays\n",
        "import tensorflow as tf            # to specify and run computation graphs|\n",
        "import tensorflow_datasets as tfds # to load training data\n",
        "import keras\n",
        "import pandas as pd\n",
        "from keras import backend\n",
        "from tensorflow.keras import Model, initializers, regularizers, constraints\n",
        "from tensorflow.keras.models import Sequential\n",
        "from tensorflow.keras.layers import LSTM, GRU, Reshape, Bidirectional, Dense, Input, Dropout, LeakyReLU, Concatenate, PReLU, Flatten\n",
        "from keras.callbacks import EarlyStopping, ModelCheckpoint\n",
        "import matplotlib.pyplot as plt \n",
        "from math import sqrt\n",
        "from google.colab import drive\n",
        "import csv\n",
        "drive.mount('/content/gdrive')"
      ],
      "execution_count": 64,
      "outputs": [
        {
          "output_type": "stream",
          "text": [
            "Drive already mounted at /content/gdrive; to attempt to forcibly remount, call drive.mount(\"/content/gdrive\", force_remount=True).\n"
          ],
          "name": "stdout"
        }
      ]
    },
    {
      "cell_type": "code",
      "metadata": {
        "id": "RxD_HoYCvFOl"
      },
      "source": [
        "inputs = pd.read_csv(\"/content/gdrive/My Drive/Colab Notebooks/AllVariables.csv\")\n",
        "\n",
        "keys = []\n",
        "for it in inputs:\n",
        "    keys.append(it)\n",
        "    \n",
        "distribution = [4, 9, 25, 26] #horrible design\n",
        "\n",
        "number_of_tests = len(inputs[keys[0]])\n"
      ],
      "execution_count": 65,
      "outputs": []
    },
    {
      "cell_type": "code",
      "metadata": {
        "id": "0if9F-tkvig0"
      },
      "source": [
        "input_short_term = []\n",
        "input_long_term = []\n",
        "output = []\n",
        "\n",
        "for i in range(number_of_tests):\n",
        "    instance = []\n",
        "    if pd.isna(inputs[keys[0]][i]):\n",
        "        continue\n",
        "    for j in range(distribution[0], distribution[1]):         \n",
        "        instance.append(round(float(inputs[keys[j]][i])/100, 3))\n",
        "\n",
        "    input_short_term.append(instance)\n",
        "    instance = []\n",
        "    for j in range(distribution[1], distribution[2]):\n",
        "        instance.append(round(float(inputs[keys[j]][i])/100, 3))\n",
        "    #for j in range(distribution[3], distribution[4]):\n",
        "    #    instance.append(float(inputs[keys[j]][i])/100)\n",
        "    input_long_term.append(instance)\n",
        "\n",
        "    output.append(float(inputs[keys[distribution[3] - 1]][i])/100)\n"
      ],
      "execution_count": 66,
      "outputs": []
    },
    {
      "cell_type": "code",
      "metadata": {
        "id": "EP8SGjrIxLqz"
      },
      "source": [
        "training_input_short_term = []\n",
        "training_input_long_term = []\n",
        "training_output = []\n",
        "\n",
        "testing_input_short_term = []\n",
        "testing_input_long_term = []\n",
        "testing_output = []\n",
        "\n",
        "for i in range(8):\n",
        "    for j in range(13):\n",
        "            training_input_short_term.append(input_short_term[j])\n",
        "            training_input_long_term.append(input_long_term[j])\n",
        "            training_output.append(output[j])\n",
        "    del input_short_term[:13]\n",
        "    del input_long_term[:13]\n",
        "    del output[:13]\n",
        "\n",
        "        #training_input_short_term = np.delete(input_short_term, j)\n",
        "    for k in range(1):\n",
        "        testing_input_short_term.append(input_short_term[k])\n",
        "        testing_input_long_term.append(input_long_term[k])\n",
        "        testing_output.append(output[k])\n",
        "    del input_short_term[0]\n",
        "    del input_long_term[0]\n",
        "    del output[0] "
      ],
      "execution_count": 67,
      "outputs": []
    },
    {
      "cell_type": "code",
      "metadata": {
        "id": "U_EfhuhWxO-V"
      },
      "source": [
        "# print(len(training_input_short_term))\n",
        "# print(len(training_input_long_term))\n",
        "# print(len(training_input_long_term))\n",
        "\n",
        "# print(len(testing_input_short_term))\n",
        "# print(len(testing_input_long_term))\n",
        "# print(len(testing_output))\n",
        "\n",
        "# print(training_input_long_term)"
      ],
      "execution_count": 68,
      "outputs": []
    },
    {
      "cell_type": "code",
      "metadata": {
        "id": "AslRvic66T8J"
      },
      "source": [
        ""
      ],
      "execution_count": 68,
      "outputs": []
    },
    {
      "cell_type": "code",
      "metadata": {
        "id": "mxjSdx1-xUlu"
      },
      "source": [
        "lVLabel = [\"Capital_Investment_test\", \"Labor_Force_Participation_test\", \"Fixed_Broadband_test\",\n",
        "          \"RandD_test\", \"Property_Rights_test\", \"Freedom_From_Corruption_test\", \"Fiscal_Freedom_test\", \"Business_Freedom_test\",\n",
        "          \"Labor_Freedom_test\", \"Monetary_Freedom_test\", \"Trade_Freedom_test\", \"Investment_Freedom_test\", \"Financial_Freedom_test\",\n",
        "          \"Economic_Freedom_Overall_test\", \"Pop_Above_65_test\", \"Savings_As_GDP_test\"]\n",
        "\n",
        "num_long_term_variable = len(lVLabel)\n",
        "\n",
        "trainLV = [[] for i in range(num_long_term_variable)]\n",
        "\n",
        "testLV  = [[] for i in range(num_long_term_variable)]"
      ],
      "execution_count": 69,
      "outputs": []
    },
    {
      "cell_type": "code",
      "metadata": {
        "id": "S_tR8fM-xQc4"
      },
      "source": [
        "\n",
        "for i in range(len(training_input_long_term)):\n",
        "    for j in range(num_long_term_variable):\n",
        "        trainLV[j].append(training_input_long_term[i][j])\n",
        "        \n",
        "for i in range(num_long_term_variable):\n",
        "    trainLV[i] = np.array(trainLV[i])"
      ],
      "execution_count": 70,
      "outputs": []
    },
    {
      "cell_type": "code",
      "metadata": {
        "id": "3ISYHI29xSzB"
      },
      "source": [
        "\n",
        "for i in range(len(testing_input_long_term)):\n",
        "    for j in range(num_long_term_variable):\n",
        "        testLV[j].append(training_input_long_term[i][j])\n",
        "\n",
        "for i in range(num_long_term_variable):\n",
        "    testLV[i] = np.array(testLV[i])"
      ],
      "execution_count": 71,
      "outputs": []
    },
    {
      "cell_type": "code",
      "metadata": {
        "id": "tq8ShbaF6T8K"
      },
      "source": [
        "training_input_short_term = np.array(training_input_short_term)\n",
        "training_input_long_term = np.array(training_input_long_term)\n",
        "training_output = np.array(training_output)\n",
        "\n",
        "testing_input_short_term = np.array(testing_input_short_term)\n",
        "testing_input_long_term = np.array(testing_input_long_term)\n",
        "testing_output = np.array(testing_output)\n"
      ],
      "execution_count": 72,
      "outputs": []
    },
    {
      "cell_type": "code",
      "metadata": {
        "colab": {
          "base_uri": "https://localhost:8080/"
        },
        "id": "LogWXh1hx0yf",
        "outputId": "bfbb3aaf-3551-4c45-fcdc-0e3e91cfa52f"
      },
      "source": [
        "short_term_input1 = Input(shape=(5,))\n",
        "short_term_input2 = Input(shape=(5,))\n",
        "long_term_input1 = Input(shape=(16,))\n",
        "\n",
        "x1 = Dense(50)(short_term_input1)\n",
        "x1 = LeakyReLU(0.2)(x1)\n",
        "x1 = Dropout(0.35)(x1)\n",
        "\n",
        "x1 = Dense(50)(x1)\n",
        "x1 = LeakyReLU(0.2)(x1)\n",
        "x1 = Dropout(0.5)(x1)\n",
        "\n",
        "x1 = Dense(50)(x1)\n",
        "x1 = LeakyReLU(0.2)(x1)\n",
        "\n",
        "con1 = Concatenate(axis=1)([x1, short_term_input2, long_term_input1])\n",
        "con1 = Dropout(0.35)(con1)\n",
        "\n",
        "con1 = Dense(71, activation = \"relu\")(con1)\n",
        "con1 = Dropout(0.2)(con1)\n",
        "\n",
        "con1 = Reshape(target_shape = (1, 71))(con1)\n",
        "\n",
        "con1 = LSTM(100, return_sequences = True)(con1)\n",
        "con1 = Dropout(0.2)(con1)\n",
        "\n",
        "con1 = LSTM(100, return_sequences = True)(con1)\n",
        "con1 = Dropout(0.35)(con1)\n",
        "\n",
        "con1 = LSTM(200, return_sequences = True)(con1)\n",
        "con1 = Dropout(0.35)(con1)\n",
        "con1 = LSTM(100, return_sequences = True)(con1)\n",
        "con1 = LSTM(1)(con1)\n",
        "\n",
        "x2 = Dense(1, activation = None)(long_term_input1)\n",
        "x2 = Reshape(target_shape= (1, 1))(x2)\n",
        "x2 = LSTM(100, return_sequences = True)(x2)\n",
        "x2 = LSTM(1)(x2)\n",
        "\n",
        "con2 = Concatenate(axis=1)([con1, x2]) \n",
        "\n",
        "output = Dense(1, activation = None)(con2)\n",
        "\n",
        "SingleLongTermmodel = Model(inputs=[short_term_input1, short_term_input2, long_term_input1], outputs=output)\n",
        "SingleLongTermmodel.summary()\n",
        "SingleLongTermmodel.compile(optimizer=tf.keras.optimizers.Adam(learning_rate=0.005), loss='mae', metrics = [tf.keras.metrics.RootMeanSquaredError()])\n",
        "\n",
        "# count = 0\n",
        "# top = [\"Long term variable\", \"MAE\"]\n",
        "# output_list = []\n",
        "# for item in trainLV:\n",
        "#   print(lVLabel[count])\n",
        "#   history = SingleLongTermmodel.fit([training_input_short_term, training_input_short_term, item], training_output, epochs = 40, batch_size = 3, verbose=0)\n",
        "#   history2 = SingleLongTermmodel.evaluate([testing_input_short_term, testing_input_short_term, testLV[count]], testing_output, batch_size=3, verbose=1)\n",
        "#   output_list.append([lVLabel[count], round(history2[0], 4)*100])\n",
        "#   count+=1\n",
        "\n",
        "# with open('/content/gdrive/My Drive/Colab Notebooks/FinalResults.csv', 'w', newline='') as results_file:\n",
        "#     writer = csv.writer(results_file)\n",
        "#     writer.writerow(top)\n",
        "#     writer.writerows(output_list)\n",
        "#     count+=1\n",
        "\n",
        "# For easy access\n",
        "# training_input_short_term\n",
        "# training_input_long_term"
      ],
      "execution_count": 111,
      "outputs": [
        {
          "output_type": "stream",
          "text": [
            "Model: \"model_5\"\n",
            "__________________________________________________________________________________________________\n",
            "Layer (type)                    Output Shape         Param #     Connected to                     \n",
            "==================================================================================================\n",
            "input_16 (InputLayer)           [(None, 5)]          0                                            \n",
            "__________________________________________________________________________________________________\n",
            "dense_30 (Dense)                (None, 50)           300         input_16[0][0]                   \n",
            "__________________________________________________________________________________________________\n",
            "leaky_re_lu_15 (LeakyReLU)      (None, 50)           0           dense_30[0][0]                   \n",
            "__________________________________________________________________________________________________\n",
            "dropout_35 (Dropout)            (None, 50)           0           leaky_re_lu_15[0][0]             \n",
            "__________________________________________________________________________________________________\n",
            "dense_31 (Dense)                (None, 50)           2550        dropout_35[0][0]                 \n",
            "__________________________________________________________________________________________________\n",
            "leaky_re_lu_16 (LeakyReLU)      (None, 50)           0           dense_31[0][0]                   \n",
            "__________________________________________________________________________________________________\n",
            "dropout_36 (Dropout)            (None, 50)           0           leaky_re_lu_16[0][0]             \n",
            "__________________________________________________________________________________________________\n",
            "dense_32 (Dense)                (None, 50)           2550        dropout_36[0][0]                 \n",
            "__________________________________________________________________________________________________\n",
            "leaky_re_lu_17 (LeakyReLU)      (None, 50)           0           dense_32[0][0]                   \n",
            "__________________________________________________________________________________________________\n",
            "input_17 (InputLayer)           [(None, 5)]          0                                            \n",
            "__________________________________________________________________________________________________\n",
            "input_18 (InputLayer)           [(None, 16)]         0                                            \n",
            "__________________________________________________________________________________________________\n",
            "concatenate_10 (Concatenate)    (None, 71)           0           leaky_re_lu_17[0][0]             \n",
            "                                                                 input_17[0][0]                   \n",
            "                                                                 input_18[0][0]                   \n",
            "__________________________________________________________________________________________________\n",
            "dropout_37 (Dropout)            (None, 71)           0           concatenate_10[0][0]             \n",
            "__________________________________________________________________________________________________\n",
            "dense_33 (Dense)                (None, 71)           5112        dropout_37[0][0]                 \n",
            "__________________________________________________________________________________________________\n",
            "dropout_38 (Dropout)            (None, 71)           0           dense_33[0][0]                   \n",
            "__________________________________________________________________________________________________\n",
            "reshape_10 (Reshape)            (None, 1, 71)        0           dropout_38[0][0]                 \n",
            "__________________________________________________________________________________________________\n",
            "lstm_35 (LSTM)                  (None, 1, 100)       68800       reshape_10[0][0]                 \n",
            "__________________________________________________________________________________________________\n",
            "dropout_39 (Dropout)            (None, 1, 100)       0           lstm_35[0][0]                    \n",
            "__________________________________________________________________________________________________\n",
            "lstm_36 (LSTM)                  (None, 1, 100)       80400       dropout_39[0][0]                 \n",
            "__________________________________________________________________________________________________\n",
            "dropout_40 (Dropout)            (None, 1, 100)       0           lstm_36[0][0]                    \n",
            "__________________________________________________________________________________________________\n",
            "lstm_37 (LSTM)                  (None, 1, 200)       240800      dropout_40[0][0]                 \n",
            "__________________________________________________________________________________________________\n",
            "dense_34 (Dense)                (None, 1)            17          input_18[0][0]                   \n",
            "__________________________________________________________________________________________________\n",
            "dropout_41 (Dropout)            (None, 1, 200)       0           lstm_37[0][0]                    \n",
            "__________________________________________________________________________________________________\n",
            "reshape_11 (Reshape)            (None, 1, 1)         0           dense_34[0][0]                   \n",
            "__________________________________________________________________________________________________\n",
            "lstm_38 (LSTM)                  (None, 1, 100)       120400      dropout_41[0][0]                 \n",
            "__________________________________________________________________________________________________\n",
            "lstm_40 (LSTM)                  (None, 1, 100)       40800       reshape_11[0][0]                 \n",
            "__________________________________________________________________________________________________\n",
            "lstm_39 (LSTM)                  (None, 1)            408         lstm_38[0][0]                    \n",
            "__________________________________________________________________________________________________\n",
            "lstm_41 (LSTM)                  (None, 1)            408         lstm_40[0][0]                    \n",
            "__________________________________________________________________________________________________\n",
            "concatenate_11 (Concatenate)    (None, 2)            0           lstm_39[0][0]                    \n",
            "                                                                 lstm_41[0][0]                    \n",
            "__________________________________________________________________________________________________\n",
            "dense_35 (Dense)                (None, 1)            3           concatenate_11[0][0]             \n",
            "==================================================================================================\n",
            "Total params: 562,548\n",
            "Trainable params: 562,548\n",
            "Non-trainable params: 0\n",
            "__________________________________________________________________________________________________\n"
          ],
          "name": "stdout"
        }
      ]
    },
    {
      "cell_type": "code",
      "metadata": {
        "id": "To2bRMtQ7FR3",
        "colab": {
          "base_uri": "https://localhost:8080/"
        },
        "outputId": "abc1abb6-4948-4b84-f1be-1c9f4192f6f0"
      },
      "source": [
        "# 0.0074 * 100 = 0.74\n",
        "training_pred1, training_pred2, training_pred3 = training_input_short_term, training_input_short_term, training_input_long_term\n",
        "y_output = training_output\n",
        "history = SingleLongTermmodel.fit([training_pred1, training_pred2, training_pred3], y_output, epochs = 120, batch_size = 3, verbose=1)"
      ],
      "execution_count": 112,
      "outputs": [
        {
          "output_type": "stream",
          "text": [
            "Epoch 1/120\n",
            "35/35 [==============================] - 11s 13ms/step - loss: 0.0223 - root_mean_squared_error: 0.0294\n",
            "Epoch 2/120\n",
            "35/35 [==============================] - 0s 13ms/step - loss: 0.0159 - root_mean_squared_error: 0.0204\n",
            "Epoch 3/120\n",
            "35/35 [==============================] - 0s 12ms/step - loss: 0.0204 - root_mean_squared_error: 0.0253\n",
            "Epoch 4/120\n",
            "35/35 [==============================] - 0s 12ms/step - loss: 0.0180 - root_mean_squared_error: 0.0230\n",
            "Epoch 5/120\n",
            "35/35 [==============================] - 0s 13ms/step - loss: 0.0196 - root_mean_squared_error: 0.0278\n",
            "Epoch 6/120\n",
            "35/35 [==============================] - 0s 12ms/step - loss: 0.0202 - root_mean_squared_error: 0.0255\n",
            "Epoch 7/120\n",
            "35/35 [==============================] - 0s 13ms/step - loss: 0.0196 - root_mean_squared_error: 0.0236\n",
            "Epoch 8/120\n",
            "35/35 [==============================] - 0s 13ms/step - loss: 0.0178 - root_mean_squared_error: 0.0236\n",
            "Epoch 9/120\n",
            "35/35 [==============================] - 0s 13ms/step - loss: 0.0217 - root_mean_squared_error: 0.0290\n",
            "Epoch 10/120\n",
            "35/35 [==============================] - 0s 13ms/step - loss: 0.0165 - root_mean_squared_error: 0.0217\n",
            "Epoch 11/120\n",
            "35/35 [==============================] - 0s 12ms/step - loss: 0.0182 - root_mean_squared_error: 0.0238\n",
            "Epoch 12/120\n",
            "35/35 [==============================] - 0s 12ms/step - loss: 0.0190 - root_mean_squared_error: 0.0251\n",
            "Epoch 13/120\n",
            "35/35 [==============================] - 0s 12ms/step - loss: 0.0153 - root_mean_squared_error: 0.0203\n",
            "Epoch 14/120\n",
            "35/35 [==============================] - 0s 13ms/step - loss: 0.0172 - root_mean_squared_error: 0.0228\n",
            "Epoch 15/120\n",
            "35/35 [==============================] - 0s 14ms/step - loss: 0.0213 - root_mean_squared_error: 0.0260\n",
            "Epoch 16/120\n",
            "35/35 [==============================] - 0s 13ms/step - loss: 0.0181 - root_mean_squared_error: 0.0234\n",
            "Epoch 17/120\n",
            "35/35 [==============================] - 0s 13ms/step - loss: 0.0167 - root_mean_squared_error: 0.0231\n",
            "Epoch 18/120\n",
            "35/35 [==============================] - 0s 13ms/step - loss: 0.0151 - root_mean_squared_error: 0.0201\n",
            "Epoch 19/120\n",
            "35/35 [==============================] - 0s 13ms/step - loss: 0.0153 - root_mean_squared_error: 0.0196\n",
            "Epoch 20/120\n",
            "35/35 [==============================] - 0s 12ms/step - loss: 0.0142 - root_mean_squared_error: 0.0187\n",
            "Epoch 21/120\n",
            "35/35 [==============================] - 0s 12ms/step - loss: 0.0173 - root_mean_squared_error: 0.0236\n",
            "Epoch 22/120\n",
            "35/35 [==============================] - 0s 12ms/step - loss: 0.0149 - root_mean_squared_error: 0.0204\n",
            "Epoch 23/120\n",
            "35/35 [==============================] - 0s 13ms/step - loss: 0.0161 - root_mean_squared_error: 0.0215\n",
            "Epoch 24/120\n",
            "35/35 [==============================] - 0s 13ms/step - loss: 0.0133 - root_mean_squared_error: 0.0172\n",
            "Epoch 25/120\n",
            "35/35 [==============================] - 0s 12ms/step - loss: 0.0163 - root_mean_squared_error: 0.0214\n",
            "Epoch 26/120\n",
            "35/35 [==============================] - 0s 13ms/step - loss: 0.0142 - root_mean_squared_error: 0.0193\n",
            "Epoch 27/120\n",
            "35/35 [==============================] - 0s 13ms/step - loss: 0.0168 - root_mean_squared_error: 0.0232\n",
            "Epoch 28/120\n",
            "35/35 [==============================] - 0s 14ms/step - loss: 0.0144 - root_mean_squared_error: 0.0195\n",
            "Epoch 29/120\n",
            "35/35 [==============================] - 0s 13ms/step - loss: 0.0154 - root_mean_squared_error: 0.0202\n",
            "Epoch 30/120\n",
            "35/35 [==============================] - 0s 13ms/step - loss: 0.0156 - root_mean_squared_error: 0.0225\n",
            "Epoch 31/120\n",
            "35/35 [==============================] - 0s 12ms/step - loss: 0.0139 - root_mean_squared_error: 0.0185\n",
            "Epoch 32/120\n",
            "35/35 [==============================] - 0s 13ms/step - loss: 0.0147 - root_mean_squared_error: 0.0202\n",
            "Epoch 33/120\n",
            "35/35 [==============================] - 0s 13ms/step - loss: 0.0164 - root_mean_squared_error: 0.0228\n",
            "Epoch 34/120\n",
            "35/35 [==============================] - 0s 13ms/step - loss: 0.0155 - root_mean_squared_error: 0.0221\n",
            "Epoch 35/120\n",
            "35/35 [==============================] - 0s 13ms/step - loss: 0.0167 - root_mean_squared_error: 0.0226\n",
            "Epoch 36/120\n",
            "35/35 [==============================] - 0s 13ms/step - loss: 0.0190 - root_mean_squared_error: 0.0249\n",
            "Epoch 37/120\n",
            "35/35 [==============================] - 0s 13ms/step - loss: 0.0172 - root_mean_squared_error: 0.0233\n",
            "Epoch 38/120\n",
            "35/35 [==============================] - 0s 13ms/step - loss: 0.0185 - root_mean_squared_error: 0.0252\n",
            "Epoch 39/120\n",
            "35/35 [==============================] - 0s 13ms/step - loss: 0.0209 - root_mean_squared_error: 0.0261\n",
            "Epoch 40/120\n",
            "35/35 [==============================] - 0s 13ms/step - loss: 0.0167 - root_mean_squared_error: 0.0223\n",
            "Epoch 41/120\n",
            "35/35 [==============================] - 0s 13ms/step - loss: 0.0177 - root_mean_squared_error: 0.0249\n",
            "Epoch 42/120\n",
            "35/35 [==============================] - 0s 13ms/step - loss: 0.0150 - root_mean_squared_error: 0.0215\n",
            "Epoch 43/120\n",
            "35/35 [==============================] - 0s 13ms/step - loss: 0.0142 - root_mean_squared_error: 0.0210\n",
            "Epoch 44/120\n",
            "35/35 [==============================] - 0s 14ms/step - loss: 0.0137 - root_mean_squared_error: 0.0190\n",
            "Epoch 45/120\n",
            "35/35 [==============================] - 0s 13ms/step - loss: 0.0169 - root_mean_squared_error: 0.0227\n",
            "Epoch 46/120\n",
            "35/35 [==============================] - 0s 13ms/step - loss: 0.0166 - root_mean_squared_error: 0.0232\n",
            "Epoch 47/120\n",
            "35/35 [==============================] - 0s 13ms/step - loss: 0.0126 - root_mean_squared_error: 0.0176\n",
            "Epoch 48/120\n",
            "35/35 [==============================] - 0s 14ms/step - loss: 0.0147 - root_mean_squared_error: 0.0206\n",
            "Epoch 49/120\n",
            "35/35 [==============================] - 0s 13ms/step - loss: 0.0165 - root_mean_squared_error: 0.0212\n",
            "Epoch 50/120\n",
            "35/35 [==============================] - 0s 13ms/step - loss: 0.0161 - root_mean_squared_error: 0.0213\n",
            "Epoch 51/120\n",
            "35/35 [==============================] - 0s 13ms/step - loss: 0.0145 - root_mean_squared_error: 0.0205\n",
            "Epoch 52/120\n",
            "35/35 [==============================] - 0s 13ms/step - loss: 0.0153 - root_mean_squared_error: 0.0232\n",
            "Epoch 53/120\n",
            "35/35 [==============================] - 0s 13ms/step - loss: 0.0160 - root_mean_squared_error: 0.0233\n",
            "Epoch 54/120\n",
            "35/35 [==============================] - 0s 13ms/step - loss: 0.0160 - root_mean_squared_error: 0.0230\n",
            "Epoch 55/120\n",
            "35/35 [==============================] - 0s 13ms/step - loss: 0.0148 - root_mean_squared_error: 0.0205\n",
            "Epoch 56/120\n",
            "35/35 [==============================] - 0s 12ms/step - loss: 0.0150 - root_mean_squared_error: 0.0201\n",
            "Epoch 57/120\n",
            "35/35 [==============================] - 0s 13ms/step - loss: 0.0152 - root_mean_squared_error: 0.0213\n",
            "Epoch 58/120\n",
            "35/35 [==============================] - 0s 12ms/step - loss: 0.0160 - root_mean_squared_error: 0.0225\n",
            "Epoch 59/120\n",
            "35/35 [==============================] - 0s 14ms/step - loss: 0.0140 - root_mean_squared_error: 0.0190\n",
            "Epoch 60/120\n",
            "35/35 [==============================] - 0s 13ms/step - loss: 0.0150 - root_mean_squared_error: 0.0197\n",
            "Epoch 61/120\n",
            "35/35 [==============================] - 0s 13ms/step - loss: 0.0145 - root_mean_squared_error: 0.0203\n",
            "Epoch 62/120\n",
            "35/35 [==============================] - 0s 13ms/step - loss: 0.0121 - root_mean_squared_error: 0.0167\n",
            "Epoch 63/120\n",
            "35/35 [==============================] - 0s 13ms/step - loss: 0.0183 - root_mean_squared_error: 0.0248\n",
            "Epoch 64/120\n",
            "35/35 [==============================] - 0s 13ms/step - loss: 0.0147 - root_mean_squared_error: 0.0220\n",
            "Epoch 65/120\n",
            "35/35 [==============================] - 0s 13ms/step - loss: 0.0196 - root_mean_squared_error: 0.0267\n",
            "Epoch 66/120\n",
            "35/35 [==============================] - 0s 13ms/step - loss: 0.0143 - root_mean_squared_error: 0.0194\n",
            "Epoch 67/120\n",
            "35/35 [==============================] - 0s 12ms/step - loss: 0.0125 - root_mean_squared_error: 0.0189\n",
            "Epoch 68/120\n",
            "35/35 [==============================] - 0s 14ms/step - loss: 0.0180 - root_mean_squared_error: 0.0254\n",
            "Epoch 69/120\n",
            "35/35 [==============================] - 0s 13ms/step - loss: 0.0189 - root_mean_squared_error: 0.0260\n",
            "Epoch 70/120\n",
            "35/35 [==============================] - 0s 13ms/step - loss: 0.0164 - root_mean_squared_error: 0.0206\n",
            "Epoch 71/120\n",
            "35/35 [==============================] - 0s 13ms/step - loss: 0.0133 - root_mean_squared_error: 0.0191\n",
            "Epoch 72/120\n",
            "35/35 [==============================] - 0s 13ms/step - loss: 0.0162 - root_mean_squared_error: 0.0230\n",
            "Epoch 73/120\n",
            "35/35 [==============================] - 0s 14ms/step - loss: 0.0182 - root_mean_squared_error: 0.0227\n",
            "Epoch 74/120\n",
            "35/35 [==============================] - 0s 13ms/step - loss: 0.0163 - root_mean_squared_error: 0.0231\n",
            "Epoch 75/120\n",
            "35/35 [==============================] - 0s 13ms/step - loss: 0.0136 - root_mean_squared_error: 0.0180\n",
            "Epoch 76/120\n",
            "35/35 [==============================] - 0s 14ms/step - loss: 0.0190 - root_mean_squared_error: 0.0248\n",
            "Epoch 77/120\n",
            "35/35 [==============================] - 0s 13ms/step - loss: 0.0170 - root_mean_squared_error: 0.0235\n",
            "Epoch 78/120\n",
            "35/35 [==============================] - 0s 13ms/step - loss: 0.0126 - root_mean_squared_error: 0.0162\n",
            "Epoch 79/120\n",
            "35/35 [==============================] - 0s 13ms/step - loss: 0.0151 - root_mean_squared_error: 0.0214\n",
            "Epoch 80/120\n",
            "35/35 [==============================] - 0s 13ms/step - loss: 0.0184 - root_mean_squared_error: 0.0238\n",
            "Epoch 81/120\n",
            "35/35 [==============================] - 0s 14ms/step - loss: 0.0166 - root_mean_squared_error: 0.0223\n",
            "Epoch 82/120\n",
            "35/35 [==============================] - 0s 13ms/step - loss: 0.0129 - root_mean_squared_error: 0.0177\n",
            "Epoch 83/120\n",
            "35/35 [==============================] - 0s 14ms/step - loss: 0.0125 - root_mean_squared_error: 0.0175\n",
            "Epoch 84/120\n",
            "35/35 [==============================] - 0s 13ms/step - loss: 0.0146 - root_mean_squared_error: 0.0219\n",
            "Epoch 85/120\n",
            "35/35 [==============================] - 0s 14ms/step - loss: 0.0155 - root_mean_squared_error: 0.0225\n",
            "Epoch 86/120\n",
            "35/35 [==============================] - 0s 14ms/step - loss: 0.0159 - root_mean_squared_error: 0.0222\n",
            "Epoch 87/120\n",
            "35/35 [==============================] - 0s 14ms/step - loss: 0.0134 - root_mean_squared_error: 0.0198\n",
            "Epoch 88/120\n",
            "35/35 [==============================] - 0s 14ms/step - loss: 0.0155 - root_mean_squared_error: 0.0216\n",
            "Epoch 89/120\n",
            "35/35 [==============================] - 0s 13ms/step - loss: 0.0170 - root_mean_squared_error: 0.0240\n",
            "Epoch 90/120\n",
            "35/35 [==============================] - 0s 13ms/step - loss: 0.0127 - root_mean_squared_error: 0.0173\n",
            "Epoch 91/120\n",
            "35/35 [==============================] - 0s 13ms/step - loss: 0.0162 - root_mean_squared_error: 0.0226\n",
            "Epoch 92/120\n",
            "35/35 [==============================] - 0s 13ms/step - loss: 0.0116 - root_mean_squared_error: 0.0162\n",
            "Epoch 93/120\n",
            "35/35 [==============================] - 0s 14ms/step - loss: 0.0168 - root_mean_squared_error: 0.0230\n",
            "Epoch 94/120\n",
            "35/35 [==============================] - 0s 13ms/step - loss: 0.0128 - root_mean_squared_error: 0.0191\n",
            "Epoch 95/120\n",
            "35/35 [==============================] - 0s 13ms/step - loss: 0.0171 - root_mean_squared_error: 0.0236\n",
            "Epoch 96/120\n",
            "35/35 [==============================] - 0s 13ms/step - loss: 0.0164 - root_mean_squared_error: 0.0231\n",
            "Epoch 97/120\n",
            "35/35 [==============================] - 0s 13ms/step - loss: 0.0289 - root_mean_squared_error: 0.0799\n",
            "Epoch 98/120\n",
            "35/35 [==============================] - 0s 13ms/step - loss: 0.0127 - root_mean_squared_error: 0.0184\n",
            "Epoch 99/120\n",
            "35/35 [==============================] - 0s 13ms/step - loss: 0.0157 - root_mean_squared_error: 0.0223\n",
            "Epoch 100/120\n",
            "35/35 [==============================] - 0s 13ms/step - loss: 0.0141 - root_mean_squared_error: 0.0196\n",
            "Epoch 101/120\n",
            "35/35 [==============================] - 0s 14ms/step - loss: 0.0154 - root_mean_squared_error: 0.0210\n",
            "Epoch 102/120\n",
            "35/35 [==============================] - 0s 13ms/step - loss: 0.0152 - root_mean_squared_error: 0.0229\n",
            "Epoch 103/120\n",
            "35/35 [==============================] - 0s 13ms/step - loss: 0.0136 - root_mean_squared_error: 0.0202\n",
            "Epoch 104/120\n",
            "35/35 [==============================] - 0s 13ms/step - loss: 0.0133 - root_mean_squared_error: 0.0189\n",
            "Epoch 105/120\n",
            "35/35 [==============================] - 0s 13ms/step - loss: 0.0136 - root_mean_squared_error: 0.0195\n",
            "Epoch 106/120\n",
            "35/35 [==============================] - 0s 13ms/step - loss: 0.0167 - root_mean_squared_error: 0.0237\n",
            "Epoch 107/120\n",
            "35/35 [==============================] - 0s 12ms/step - loss: 0.0142 - root_mean_squared_error: 0.0203\n",
            "Epoch 108/120\n",
            "35/35 [==============================] - 0s 13ms/step - loss: 0.0146 - root_mean_squared_error: 0.0190\n",
            "Epoch 109/120\n",
            "35/35 [==============================] - 0s 14ms/step - loss: 0.0160 - root_mean_squared_error: 0.0216\n",
            "Epoch 110/120\n",
            "35/35 [==============================] - 0s 13ms/step - loss: 0.0155 - root_mean_squared_error: 0.0213\n",
            "Epoch 111/120\n",
            "35/35 [==============================] - 0s 13ms/step - loss: 0.0145 - root_mean_squared_error: 0.0216\n",
            "Epoch 112/120\n",
            "35/35 [==============================] - 0s 13ms/step - loss: 0.0135 - root_mean_squared_error: 0.0198\n",
            "Epoch 113/120\n",
            "35/35 [==============================] - 0s 13ms/step - loss: 0.0131 - root_mean_squared_error: 0.0184\n",
            "Epoch 114/120\n",
            "35/35 [==============================] - 0s 14ms/step - loss: 0.0138 - root_mean_squared_error: 0.0201\n",
            "Epoch 115/120\n",
            "35/35 [==============================] - 0s 14ms/step - loss: 0.0126 - root_mean_squared_error: 0.0180\n",
            "Epoch 116/120\n",
            "35/35 [==============================] - 0s 13ms/step - loss: 0.0132 - root_mean_squared_error: 0.0190\n",
            "Epoch 117/120\n",
            "35/35 [==============================] - 0s 13ms/step - loss: 0.0150 - root_mean_squared_error: 0.0214\n",
            "Epoch 118/120\n",
            "35/35 [==============================] - 0s 13ms/step - loss: 0.0170 - root_mean_squared_error: 0.0240\n",
            "Epoch 119/120\n",
            "35/35 [==============================] - 0s 13ms/step - loss: 0.0134 - root_mean_squared_error: 0.0178\n",
            "Epoch 120/120\n",
            "35/35 [==============================] - 0s 13ms/step - loss: 0.0116 - root_mean_squared_error: 0.0168\n"
          ],
          "name": "stdout"
        }
      ]
    },
    {
      "cell_type": "code",
      "metadata": {
        "colab": {
          "base_uri": "https://localhost:8080/",
          "height": 649
        },
        "id": "E_j_8aIu75xi",
        "outputId": "a315821b-9e09-465c-e525-efc8d4dd3257"
      },
      "source": [
        "def print_loss_graph(history):\n",
        "    plt.plot(history.history['loss'])\n",
        "    plt.title('model loss')\n",
        "    plt.ylabel('loss')\n",
        "    plt.xlabel('epoch')\n",
        "    plt.legend(['train'], loc='upper left')\n",
        "    plt.show()\n",
        "\n",
        "print_loss_graph(history)\n",
        "testing_st1,testing_st2, testing_lt1, testing_outp = testing_input_short_term, testing_input_short_term, testing_input_long_term, testing_output\n",
        "\n",
        "y2 = SingleLongTermmodel.evaluate(x=[testing_st1, testing_st2, testing_lt1],y=testing_output, batch_size=3, verbose=1)\n",
        "\n",
        "#testing_pred1, testing_pred2, testing_pred3 = testing_input_short_term[k/13], testing_input_short_term[k/13], testing_input_long_term[k/13]\n",
        "#print(testing_pred1)\n",
        "plt.plot(testing_output*100, 'r+')\n",
        "X = SingleLongTermmodel.predict(x=[testing_input_short_term, testing_input_short_term, testing_input_long_term])\n",
        "plt.plot(X*100, 'b+')\n",
        "plt.legend(['actual', 'predict'])\n",
        "plt.xticks(np.arange(start = 0, stop = 8), ['Canada', 'Greece', 'Japan', 'Malaysia', 'South Africa', 'Spain', 'UK', 'USA'], rotation = 45)\n",
        "plt.title(\"Actual Real GDP Change  vs Predicted Real GDP Change by Country\")\n",
        "plt.xlabel(\"Countries\")\n",
        "plt.ylabel(\"Percentage in real GDP change\")\n",
        "# x = np.arange(start=2005, stop=2018, step=1)\n",
        "\n",
        "# fig = plt.figure()\n",
        "# ax = plt.subplot(111)\n",
        "# ax.plot(x, y, label='$y = Actual')\n",
        "# ax.plot(x, y2, label='$y2 = Prediction')\n",
        "# plt.title('Actual vs Prediction')\n",
        "# ax.legend()\n",
        "# plt.show()"
      ],
      "execution_count": 113,
      "outputs": [
        {
          "output_type": "display_data",
          "data": {
            "image/png": "[encoded data removed]",
            "text/plain": [
              "<Figure size 432x288 with 1 Axes>"
            ]
          },
          "metadata": {
            "tags": [],
            "needs_background": "light"
          }
        },
        {
          "output_type": "stream",
          "text": [
            "3/3 [==============================] - 2s 7ms/step - loss: 0.0073 - root_mean_squared_error: 0.0090\n"
          ],
          "name": "stdout"
        },
        {
          "output_type": "execute_result",
          "data": {
            "text/plain": [
              "Text(0, 0.5, 'Percentage in real GDP change')"
            ]
          },
          "metadata": {
            "tags": []
          },
          "execution_count": 113
        },
        {
          "output_type": "display_data",
          "data": {
            "image/png": "[encoded data removed]",
            "text/plain": [
              "<Figure size 432x288 with 1 Axes>"
            ]
          },
          "metadata": {
            "tags": [],
            "needs_background": "light"
          }
        }
      ]
    },
    {
      "cell_type": "code",
      "metadata": {
        "id": "KX4sk1HpeEPG"
      },
      "source": [
        ""
      ],
      "execution_count": null,
      "outputs": []
    },
    {
      "cell_type": "code",
      "metadata": {
        "id": "nJH7_xIY8jy1"
      },
      "source": [
        "# It predicts greece, Malaysia and South Africa most inaccurately\n",
        "# It tends to over estimate the real GDP change. In 5 of the 7 countries, it overestimated. Only for Spain and USA, it underestimated the change. "
      ],
      "execution_count": null,
      "outputs": []
    }
  ]
}