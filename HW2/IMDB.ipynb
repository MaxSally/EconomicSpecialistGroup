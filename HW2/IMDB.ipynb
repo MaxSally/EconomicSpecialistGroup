{
 "cells": [
  {
   "cell_type": "code",
   "execution_count": 1,
   "metadata": {},
   "outputs": [
    {
     "name": "stderr",
     "output_type": "stream",
     "text": [
      "Matplotlib created a temporary config/cache directory at /tmp/matplotlib-r1hzdd1r because the default path (/home/cse479/rbockmon2/.config/matplotlib) is not a writable directory; it is highly recommended to set the MPLCONFIGDIR environment variable to a writable directory, in particular to speed up the import of Matplotlib and to better support multiprocessing.\n"
     ]
    }
   ],
   "source": [
    "from sklearn.model_selection import train_test_split\n",
    "from __future__ import print_function\n",
    "import numpy as np                 # to use numpy arrays\n",
    "import tensorflow as tf            # to specify and run computation graphs\n",
    "import tensorflow_datasets as tfds # to load training data\n",
    "import keras\n",
    "from keras import backend\n",
    "from tensorflow.keras import Model, initializers, regularizers, constraints\n",
    "from tensorflow.keras.models import Sequential\n",
    "from tensorflow.keras.layers import LSTM, Bidirectional, Embedding, GlobalMaxPooling1D, Dense, Flatten, Conv2D, MaxPooling2D, MaxPool2D, Dropout, GlobalAvgPool2D, Input\n",
    "from keras.preprocessing.text import Tokenizer\n",
    "from keras.preprocessing.sequence import pad_sequences\n",
    "from keras.callbacks import EarlyStopping, ModelCheckpoint\n",
    "from keras.layers import *\n",
    "from sklearn.model_selection import KFold "
   ]
  },
  {
   "cell_type": "code",
   "execution_count": 2,
   "metadata": {},
   "outputs": [],
   "source": [
    "train_data, test_data = tfds.load(\n",
    "    name=\"imdb_reviews\", \n",
    "    split=('train', 'test'),\n",
    "    as_supervised=False)"
   ]
  },
  {
   "cell_type": "code",
   "execution_count": 3,
   "metadata": {},
   "outputs": [],
   "source": [
    "temp = train_data.as_numpy_iterator()\n",
    "train_data_2 = []\n",
    "train_label_2 = []\n",
    "for it in temp:\n",
    "    train_data_2.append(it['text'])\n",
    "    train_label_2.append(it['label'])"
   ]
  },
  {
   "cell_type": "code",
   "execution_count": 4,
   "metadata": {},
   "outputs": [],
   "source": [
    "temp = test_data.as_numpy_iterator()\n",
    "test_data_2 = []\n",
    "test_label_2 = []\n",
    "for it in temp:\n",
    "    test_data_2.append(it['text'])\n",
    "    test_label_2.append(it['label'])"
   ]
  },
  {
   "cell_type": "code",
   "execution_count": 5,
   "metadata": {},
   "outputs": [],
   "source": [
    "class AttentionWithContext(tf.keras.layers.Layer):\n",
    "    \"\"\"\n",
    "    Attention operation, with a context/query vector, for temporal data.\n",
    "    Supports Masking.\n",
    "    Follows the work of Yang et al. [https://www.cs.cmu.edu/~diyiy/docs/naacl16.pdf]\n",
    "    \"Hierarchical Attention Networks for Document Classification\"\n",
    "    by using a context vector to assist the attention\n",
    "    # Input shape\n",
    "        3D tensor with shape: `(samples, steps, features)`.\n",
    "    # Output shape\n",
    "        2D tensor with shape: `(samples, features)`.\n",
    "    How to use:\n",
    "    Just put it on top of an RNN Layer (GRU/LSTM/SimpleRNN) with return_sequences=True.\n",
    "    The dimensions are inferred based on the output shape of the RNN.\n",
    "    Note: The layer has been tested with Keras 2.0.6\n",
    "    Example:\n",
    "        model.add(LSTM(64, return_sequences=True))\n",
    "        model.add(AttentionWithContext())\n",
    "        # next add a Dense layer (for classification/regression) or whatever...\n",
    "    \"\"\"\n",
    "\n",
    "    def __init__(self, W_regularizer=None, u_regularizer=None, b_regularizer=None,                \n",
    "                 W_constraint=None, u_constraint=None, b_constraint=None,\n",
    "                 bias=True, **kwargs):\n",
    "\n",
    "        self.supports_masking = True\n",
    "        self.init = initializers.get('glorot_uniform')\n",
    "\n",
    "        self.W_regularizer = regularizers.get(W_regularizer)\n",
    "        self.u_regularizer = regularizers.get(u_regularizer)\n",
    "        self.b_regularizer = regularizers.get(b_regularizer)\n",
    "\n",
    "        self.W_constraint = constraints.get(W_constraint)\n",
    "        self.u_constraint = constraints.get(u_constraint)\n",
    "        self.b_constraint = constraints.get(b_constraint)\n",
    "\n",
    "        self.bias = bias\n",
    "        super(AttentionWithContext, self).__init__(**kwargs)\n",
    "    def build(self, input_shape):\n",
    "        assert len(input_shape) == 3\n",
    "\n",
    "        self.W = self.add_weight(shape = (input_shape[-1], input_shape[-1],),\n",
    "                                 initializer=self.init,\n",
    "                                 name = 'name',\n",
    "                                 regularizer=self.W_regularizer,\n",
    "                                 constraint=self.W_constraint)\n",
    "        if self.bias:\n",
    "            self.b = self.add_weight(shape = (input_shape[-1],),\n",
    "                                     initializer='zero',\n",
    "                                     name = 'name',\n",
    "                                     regularizer=self.b_regularizer,\n",
    "                                     constraint=self.b_constraint)\n",
    "\n",
    "        self.u = self.add_weight(shape = (input_shape[-1],),\n",
    "                                 initializer=self.init,\n",
    "                                 name = 'name',\n",
    "                                 regularizer=self.u_regularizer,\n",
    "                                 constraint=self.u_constraint)\n",
    "        \n",
    "        super(AttentionWithContext, self).build(input_shape)\n",
    "\n",
    "    def compute_mask(self, input, input_mask=None):\n",
    "        # do not pass the mask to the next layers\n",
    "        return None\n",
    "\n",
    "    def call(self, x, mask=None):\n",
    "        uit = dot_product(x, self.W)\n",
    "\n",
    "        if self.bias:\n",
    "            uit += self.b\n",
    "\n",
    "        uit = tf.math.tanh(uit)\n",
    "        ait = dot_product(uit, self.u)\n",
    "\n",
    "        a = tf.math.exp(ait)\n",
    "\n",
    "        # apply mask after the exp. will be re-normalized next\n",
    "        if mask is not None:\n",
    "            # Cast the mask to floatX to avoid float64 upcasting in theano\n",
    "            a *= tf.cast(mask, tf.float32)\n",
    "        \n",
    "        # in some cases especially in the early stages of training the sum may be almost zero\n",
    "        # and this results in NaN's. A workaround is to add a very small positive number ε to the sum.\n",
    "        # a /= K.cast(K.sum(a, axis=1, keepdims=True), K.floatx())\n",
    "        a /= tf.cast(tf.math.reduce_sum(a, axis=1, keepdims=True) + backend.epsilon(), tf.float32)\n",
    "\n",
    "        a = tf.expand_dims(a, -1)\n",
    "        print(x.shape)\n",
    "        print(a.shape)\n",
    "        weighted_input = x * a\n",
    "        return tf.math.reduce_sum(weighted_input, axis=1)\n",
    "\n",
    "    def compute_output_shape(self, input_shape):\n",
    "        return input_shape[0], input_shape[-1]\n",
    "\n",
    "def dot_product(x, kernel):\n",
    "    \"\"\"\n",
    "    Wrapper for dot product operation, in order to be compatible with both\n",
    "    Theano and Tensorflow\n",
    "    Args:\n",
    "        x (): input\n",
    "        kernel (): weights\n",
    "    Returns:\n",
    "    \"\"\"\n",
    "    return tf.tensordot(x, kernel, axes = 1)\n",
    "    #return tf.squeeze(tf.keras.layers.dot(inputs = [x, kernel], axes=1))\n",
    "    #return K.dot(x, kernel)"
   ]
  },
  {
   "cell_type": "code",
   "execution_count": 6,
   "metadata": {},
   "outputs": [],
   "source": [
    "vocab_size = 60000\n",
    "maxlen = 250\n",
    "encode_dim = 70\n",
    "batch_size = 32"
   ]
  },
  {
   "cell_type": "code",
   "execution_count": 7,
   "metadata": {},
   "outputs": [],
   "source": [
    "\n",
    "tokenizer = Tokenizer()\n",
    "cnt = 0\n",
    "cnt_1 = 0\n",
    "for it in train_data_2:\n",
    "    if cnt % 1000 == 0:\n",
    "        #print(str(it))\n",
    "        cnt_1 += 1\n",
    "        #print(cnt_1)\n",
    "    cnt += 1\n",
    "    tokenizer.fit_on_texts(str(it))\n"
   ]
  },
  {
   "cell_type": "code",
   "execution_count": null,
   "metadata": {},
   "outputs": [
    {
     "name": "stdout",
     "output_type": "stream",
     "text": [
      "0\n",
      "1000\n",
      "2000\n",
      "3000\n",
      "4000\n",
      "5000\n",
      "6000\n",
      "7000\n",
      "8000\n",
      "9000\n",
      "10000\n",
      "11000\n",
      "12000\n",
      "13000\n",
      "14000\n",
      "15000\n",
      "16000\n",
      "17000\n",
      "18000\n",
      "19000\n",
      "20000\n",
      "21000\n",
      "22000\n",
      "23000\n",
      "24000\n"
     ]
    }
   ],
   "source": [
    "cnt = 0\n",
    "tokenized_word_list = []\n",
    "for it in train_data_2:\n",
    "    if cnt % 1000 == 0:\n",
    "        print(len(tokenized_word_list))\n",
    "    cnt += 1\n",
    "    tokenized_word_list.append(tokenizer.texts_to_sequences(str(it)))\n"
   ]
  },
  {
   "cell_type": "code",
   "execution_count": null,
   "metadata": {},
   "outputs": [],
   "source": [
    "tokenized_word_list_2 = []\n",
    "for it in train_data_2:\n",
    "    temp = tokenizer.texts_to_sequences(str(it))\n",
    "    newL = []\n",
    "    for it2 in temp:\n",
    "        if it2 == []:\n",
    "            continue\n",
    "        newL.append(it2[0])\n",
    "    tokenized_word_list_2.append(newL)"
   ]
  },
  {
   "cell_type": "code",
   "execution_count": null,
   "metadata": {},
   "outputs": [],
   "source": [
    "X_train_padded = pad_sequences(tokenized_word_list_2, maxlen = maxlen, padding='post')"
   ]
  },
  {
   "cell_type": "code",
   "execution_count": null,
   "metadata": {},
   "outputs": [],
   "source": [
    "print(len(X_train_padded))\n",
    "print(X_train_padded.shape[1])"
   ]
  },
  {
   "cell_type": "code",
   "execution_count": null,
   "metadata": {},
   "outputs": [],
   "source": [
    "es = EarlyStopping(monitor = 'val_loss', mode = 'min', verbose = 1, patience = 5)\n",
    "mc = ModelCheckpoint('model_best.h5', monitor = 'val_acc', mode = 'max', verbose = 1, save_best_only = True)"
   ]
  },
  {
   "cell_type": "code",
   "execution_count": null,
   "metadata": {},
   "outputs": [],
   "source": [
    "#k-fold cross validation\n",
    "k = 3 #number of folds\n",
    "numfold = 0 #what fold we are on\n",
    "X_train_padded\n",
    "for i in range(k):\n",
    "    model = Sequential()\n",
    "    embed = Embedding(input_dim = vocab_size, output_dim = 20, input_length = X_train_padded.shape[1])\n",
    "\n",
    "    model.add(embed)\n",
    "    model.add(Dropout(0.4))\n",
    "    model.add(Bidirectional(LSTM(200, return_sequences = True)))\n",
    "    model.add(Dropout(0.3))\n",
    "    model.add(AttentionWithContext())\n",
    "    model.add(Dropout(0.5))\n",
    "    model.add(Dense(512))\n",
    "    model.add(LeakyReLU(alpha=0.2))\n",
    "    model.add(Dense(1, activation = 'sigmoid'))\n",
    "    model.compile(loss = 'binary_crossentropy', optimizer = 'adam', metrics = ['accuracy'])\n",
    "    #model.summary()\n",
    "    \n",
    "    print(\"Fold :\", numfold)\n",
    "    numfold += 1\n",
    "    lenght = len(X_train_padded)\n",
    "    start = i*lenght//k #gets the starting index for each fold\n",
    "    end = (i+1)*lenght//k #gets the ending index for each fold\n",
    "    \n",
    "    X_train_padded_fold = X_train_padded[start:end]#splits the data into folds\n",
    "    train_label_2_fold = train_label_2[start:end]\n",
    "    \n",
    "    X_train_final2, X_val, y_train_final2, y_val = train_test_split(X_train_padded_fold, train_label_2_fold, test_size = 0.2, shuffle=True)\n",
    "    X_train_final2 = np.array(X_train_final2)\n",
    "    X_val = np.array(X_val)\n",
    "    y_train_final2 = np.array(y_train_final2)\n",
    "    y_val = np.array(y_val)\n",
    "    history = model.fit(X_train_final2, y_train_final2, epochs = 50, batch_size = batch_size, verbose = 1, validation_data = (X_val, y_val), callbacks = [es])"
   ]
  },
  {
   "cell_type": "code",
   "execution_count": 17,
   "metadata": {},
   "outputs": [
    {
     "name": "stdout",
     "output_type": "stream",
     "text": [
      "(None, 250, 400)\n",
      "(None, 250, 1)\n",
      "(None, 250, 400)\n",
      "(None, 250, 1)\n",
      "WARNING:tensorflow:From /home/cse479/maxnguyen/.conda/envs/tensorflow-env/lib/python3.8/site-packages/tensorflow/python/training/tracking/tracking.py:111: Model.state_updates (from tensorflow.python.keras.engine.training) is deprecated and will be removed in a future version.\n",
      "Instructions for updating:\n",
      "This property should not be used in TensorFlow 2.0, as updates are applied automatically.\n"
     ]
    },
    {
     "name": "stderr",
     "output_type": "stream",
     "text": [
      "WARNING:tensorflow:From /home/cse479/maxnguyen/.conda/envs/tensorflow-env/lib/python3.8/site-packages/tensorflow/python/training/tracking/tracking.py:111: Model.state_updates (from tensorflow.python.keras.engine.training) is deprecated and will be removed in a future version.\n",
      "Instructions for updating:\n",
      "This property should not be used in TensorFlow 2.0, as updates are applied automatically.\n"
     ]
    },
    {
     "name": "stdout",
     "output_type": "stream",
     "text": [
      "WARNING:tensorflow:From /home/cse479/maxnguyen/.conda/envs/tensorflow-env/lib/python3.8/site-packages/tensorflow/python/training/tracking/tracking.py:111: Layer.updates (from tensorflow.python.keras.engine.base_layer) is deprecated and will be removed in a future version.\n",
      "Instructions for updating:\n",
      "This property should not be used in TensorFlow 2.0, as updates are applied automatically.\n"
     ]
    },
    {
     "name": "stderr",
     "output_type": "stream",
     "text": [
      "WARNING:tensorflow:From /home/cse479/maxnguyen/.conda/envs/tensorflow-env/lib/python3.8/site-packages/tensorflow/python/training/tracking/tracking.py:111: Layer.updates (from tensorflow.python.keras.engine.base_layer) is deprecated and will be removed in a future version.\n",
      "Instructions for updating:\n",
      "This property should not be used in TensorFlow 2.0, as updates are applied automatically.\n"
     ]
    },
    {
     "name": "stdout",
     "output_type": "stream",
     "text": [
      "(None, 250, 400)\n",
      "(None, 250, 1)\n",
      "(None, 250, 400)\n",
      "(None, 250, 1)\n",
      "(None, 250, 400)\n",
      "(None, 250, 1)\n",
      "INFO:tensorflow:Assets written to: homework2/imdb/assets\n"
     ]
    },
    {
     "name": "stderr",
     "output_type": "stream",
     "text": [
      "INFO:tensorflow:Assets written to: homework2/imdb/assets\n"
     ]
    }
   ],
   "source": [
    "tf.saved_model.save(model, 'homework2/imdb')"
   ]
  },
  {
   "cell_type": "code",
   "execution_count": 18,
   "metadata": {},
   "outputs": [],
   "source": [
    "save_model = model"
   ]
  },
  {
   "cell_type": "code",
   "execution_count": 14,
   "metadata": {},
   "outputs": [
    {
     "name": "stdout",
     "output_type": "stream",
     "text": [
      "b\"There are films that make careers. For George Romero, it was NIGHT OF THE LIVING DEAD; for Kevin Smith, CLERKS; for Robert Rodriguez, EL MARIACHI. Add to that list Onur Tukel's absolutely amazing DING-A-LING-LESS. Flawless film-making, and as assured and as professional as any of the aforementioned movies. I haven't laughed this hard since I saw THE FULL MONTY. (And, even then, I don't think I laughed quite this hard... So to speak.) Tukel's talent is considerable: DING-A-LING-LESS is so chock full of double entendres that one would have to sit down with a copy of this script and do a line-by-line examination of it to fully appreciate the, uh, breadth and width of it. Every shot is beautifully composed (a clear sign of a sure-handed director), and the performances all around are solid (there's none of the over-the-top scenery chewing one might've expected from a film like this). DING-A-LING-LESS is a film whose time has come.\"\n",
      "0\n",
      "b'I saw this movie many years ago, and just for kicks decided to rent it and watch it again. The plot is a carbon copy from Fright Night. I did like the hairy vampire and the bug eating driver. Otherwise it was not good at all.'\n",
      "1\n",
      "b\"Idea is great, spoiled big time by the judges.<br /><br />Why make fun of people? if what the inventors say is true, and as most of them say, they spent their life saving on the invention, the minimum is to reject the idea without making fun out of the people.<br /><br />also, it shows when they want to accept an idea by the crier that they added to the judges.<br /><br />The only one i respect out of the judges is the one who always sits on the right of the table, he is a respectable person<br /><br />of course the English snob who claims to be a business man, wearing a suite doesn't make you one pal<br /><br />last but not least, the big guy who sits between the English and the crier. wake up man, the is no job called and inventor for you to call yourself one. an inventor is an attribute not a job man.<br /><br />i think they wanted to add someone like Simon from the American idol, they thought it worked there, it can work here as well. the context is different and the idea is totally different.<br /><br />it is a good idea and they could have done a good show out of it if they just change the judges and remove their act and attitude.<br /><br />just stop making fun of the people.\"\n",
      "2\n",
      "b\"I watched this movie last night, i'm a huge fan of the book, and i was pretty happy with the version in which Winona Ryder and Susan Sarandon starred. But this one, it's just awful. Oh my God, i don't understand how they dared to ripped apart this classic story and made the characters totally different, starting with the switching of Beth being the younger sister, and making Amy the 3rd one. And Jo interpretation, terrible, Jo was a feminist, intelligent and kinda angry young lady, and the actress portraying Jo in this movie acts like a foolish and very annoying little girl. And what's with the Laurie going to war?. i'm OK with the fact that when a book is made into a movie there has to be some changes made, but not re-write the whole story. very very bad done.\"\n",
      "3\n",
      "b\"I was very happy and at the same time quite surprised by other positive comments written by non-Koreans below. This movie is amazingly heartshaking, and shows very 'sad but warm' view toward life which is typical to Korean people. I thought other foreigners would not understand this delicate feeling and under-rate this quiet film as a boring one, but I was wrong. The attraction of this film might be hard to avoid to foreigners, too. (Even without subtitle...)<br /><br />I would like to mention some points others have missed. Of course, this film depicts love between a man and a woman. However, the very theme is way beyond that. Actually, it is about time, value of remembrance, and death. In this film, the focus is not on the 'love affair' between two people. As some pointed out, they do not kiss, they do not hug each other, even without holding hands. So love itself is not completed (whether positively or negatively) in the film. Rather, what haunts Jungwon (a leading actor) is his impending death. He's running out of time, he can't hold it, leaving a few behind including his father and of course, Darim (a metermaid). So the problem is how he can face the death and leave something valuable in his short life, not how he can make love with Darim.<br /><br />This kind of theme sounds very familiar to us. There are lots of movies regarding patients with uncurable disease such as 'Love Story'. However, what makes this film outstanding is the way Jungwon deals his death. He is a loser, but tried to do his best while he's alive, IN A SILENT WAY. He does not tell anybody around him about his death. He hides something in his mind but without rage, hate, vengeance. He just tried to do best while he was alive. This limited communication and obedience to fate is the typical mindset of Koreans and the point most Western people don't understand or at best, misunderstand.<br /><br />This theme is very effectively expressed by the director of this film (surprisingly, his debut). Some say he's much influenced by Japanese director Ozu Yasujiro, who directed Tokyo Story. Indeed, I remember I read in some magazine that the director himself admitted he was influenced by Ozu. I'm not that knowledged to analyze his style comparing to Ozu's, but they have some in common and some not. Low angle and static camera, especially remind us Ozu's style. But, in terms of theme again, this Korean director seems to have somewhat warmer and hopeful vision.<br /><br />It is expressed concisely with Jungwon's last photograph. Very well done and really heartbreaking scene, I think. Actually, the director first had the idea of this film when he participated the funeral of a very famous Korean folk singer who died young of mysterious suicide. They say he saw the photograph of the singer at the funeral and thought of a film on death and remembrance. (And possibly hope for the remnants, I think...)<br /><br />I highly recommend this film to anybody who has deep interest in film art as well as Korean culture. This film, in my opinion, can be rivaled with other movies like Tokyo story, and a sort of American Beauty. It is that great if without language barrier. DVD version is going to be out in the market this February, so it might be a little help for foreigners with English subtitle.\"\n",
      "4\n",
      "b\"I had always eyed Italian horror maestro Dario Argento's efforts as producer with a certain suspicion and these were only confirmed after my fairly recent viewing of Lamberto Bava's terrible DEMONS (1985); the fact that this was supposed to be its third installment did not sound promising at all but I decided to give the film a rental regardless now that we're in full Halloween swing. I checked out the theatrical trailer on the Anchor Bay DVD prior to viewing the main feature \\xc2\\x96 the undeniably striking visuals had me intrigued to be sure but, then, the film proper (which makes no more sense than what's presented in that frenzied two-minute montage and, in retrospect, can be seen to have wisely compiled most of its highlights) proved a definite let-down!<br /><br />Opening promisingly enough with a medieval prologue straight out of Alexander NEVSKY (1938), it goes downhill fast because it relies too much on surreal imagery at the expense of narrative. Consequently, several characters randomly take center-stage throughout \\xc2\\x96 with the insufferable male lead succumbing to the dark forces early on, the sinister-looking Bishop (Feodor Chaliapin) resulting a mere red herring, the mysterious black priest gradually assuming heroic qualities, the leading lady is for whatever reason preyed upon by a goat-shaped demon (culminating in a sexual rite conducted in front of the other cultists lifted all-too-obviously from ROSEMARY'S BABY [1968]) and a reasonably impressive 13-year old Asia Argento as the rebellious but likable sacristan's daughter (who emerges as the only survivor by the end). Incidentally, the older Argento also co-wrote the film's story and screenplay along with director Soavi and (under a pseudonym after they apparently fell out with Dario in the early stages of production) original helmer Lamberto Bava and prolific genre scribe Dardano Sacchetti (whom I met at the 61st Venice Film Festival in 2004).<br /><br />The extremely muddled second half of the film, then, sees a group of people \\xc2\\x96 including the inevitable teenagers but also a doddering English couple (whose constant bickering is given an amusingly nasty punchline) \\xc2\\x96 similarly shut inside a building in the grip of evil spirits (the church being the burial ground of a satanic cult)\\xc2\\x85not that this horror outing is likely to dispel memories of Luis Bunuel's sublimely surreal THE EXTERMINATING ANGEL (1962) you see! In the end, the film is all the more disappointing (though Sergio Stivaletti's gruesome effects, at least, are notable) given that I had thoroughly enjoyed the only other Soavi title I'd watched \\xc2\\x96 CEMETERY MAN (1994), which I own via the R2 SE DVD. That said, I'd still like to catch his debut feature \\xc2\\x96 STAGE FRIGHT (1987) \\xc2\\x96 and the director's follow-up effort to THE CHURCH, entitled THE SECT (1991)...\"\n",
      "5\n",
      "b\"I saw this in a theatre back in 1982. I expected a stupid T&A movie. That's not what I got.<br /><br />It's basically about three teenage boys trying to have sex. We get the expected sex jokes and scenes--but, for once, they're actually pretty funny!<br /><br />Yeah, they're stupid but I enjoyed them anyways. Also, there was a surprising amount of male nudity.<br /><br />Then the movie, about halfway through, takes a sudden dramatic turn as one of the boys (winningly played by Lawrence Monoson) falls in love with a girl. Then the jokes stop and things get very dark. I'm not going to give away what happens but I was very surprised at the sudden turn in events. The movie brings up some very important subjects and treats them realistically and with intelligence. And it has a real heart-breaking ending.<br /><br />I'm giving this a 10 because this is probably one of the best teen sex comedy/dramas ever made. It mixes fantasy and realism together and works! What more can you ask for? Also it has a GREAT soundtrack.\"\n",
      "6\n",
      "b'I watched the first show of each series just to see and what a waste of time. The girl from Emmerdale she was fat so yeah she should be in fat friend but no one every lost weigh.<br /><br />Like Itv made a big mistake with this.<br /><br />Bad Girls is 100times better.<br /><br />I feel that the whole show was just about large people trying to loose weight but never did then they tried to have love storyline oh my god what a a waste of time and also air time. This show has not been repeated on ITV2/3/4 yeah thats how good it is.<br /><br />I would say do not by th box sets just a waste of money.<br /><br />BEWARE'\n",
      "7\n",
      "b'Am I the only person who saw and remembers Amadeus. Every scene in \"Copying\" has its counterpart in the Milos Forman, Amadeus - from the galloping carriages accompanied by frenzied strings, to the entrance of Anna through the dark hallway preceded by the man with the key, to the very dialog of the conclusion with Anna at Beethoven\\'s feet a la Salieri before the dying Mozart. Does no one else recall the dialog in that script: <br /><br />Salieri \"Time?\" , Mozart \"Common time\". .....\"We begin with the strings...\" and so it \"copies\".<br /><br />Remember Cynthia Nixon leaning against a door jamb, tears falling down her freckled face - same scene, just replace her with Beethoven\\'s nephew. Even the scatological humor (fart jokes) are the same. We even have a cardinal followed around by a plate of sweet cookies which recalls Salieri in the banquet hall. Does no one else remember? !!!!<br /><br />And the scene where Anna cries to God \"Why did you give me this gift?\"... Salieri said the same thing!<br /><br />And beyond all that we have a juvenile script with an opening exposition that reads like the character identifications you\\'d find in a children\\'s story. \"I am Mr. Beethoven. I am the composer....\"<br /><br />And what, after all, is the purpose of the bridge builder? Other than to juxtapose the technical against the artistic... a comparison that is not at all developed - probably because it has no meaning, especially when it comes to Beethove who was a master of the technical.<br /><br />There\\'s only one great scene - the playing of the ninth. First, the music, which of itself takes you to tears. But then, there is the highly erotic interaction of Anna the copyist keeping time and Beethoven conducting which surpasses the most explicit sexual intimacy. So intense, it\\'s almost embarrassing.<br /><br />But, please - the rest of the film - Where is the world\\'s collective memory? You have seen this all before .... and better!'\n",
      "8\n",
      "b\"Sci-Fi channel thinks this IS Sci-Fi; it's a shame. Big Bugs, Snakes, Mythical Beasties, on and on, they persist.<br /><br />Some one at Universal had the brains to include BattleStar Galactica (the new, good one) and Firefly for a brief moment in their line up. I know they know they difference between total garbage and extremely high quality sci-fi.<br /><br />A few years back they were on about how they were going all high and mighty, making productions that were not just for us mere, lame-o Trekkies. Thanks so much, Sci-Fi! You know, you make movies so bad, even Trekkies won't watch them, so you achieved your goal! Fire Serpent, Ice Spiders, Manticore, Larva etc.and a vast unrelenting crap-storm later, and they're still churning out just faster than the latest flu virus! How they do it is beyond my ken. Why they do it, I just don't know. How they can ignore these reviews, comments, blogs and e-mails, I don't know either, but it's clear they don't think much of their audience or care about our opinions! They seem to think this is what sci-fi fans want! You would think one or two good productions with some sense would creep through when whoever green lights this junk is on vacation. At least they're employing the collection of Misfit Toys; many of the sci-fi movie of the week actors were in Science Fiction shows once and now need the cash. Love you folks, and hope you get some better work!\"\n",
      "9\n",
      "b\"I think this movie is different apart from most films I've seen. It was exciting in a way, and no matter what others say, I say, I was surprised about the final solution. Certainly didn't see it coming!! Although it's sad, it's worth watching.. I can't think of any movie that would be like this! Actors knew what they were doing. If you say this movie sucks, you say probably what most people would say. But, if someone says that this movie is ordinary, I absolutely don't agree. And Norman Reedus should be more noticed.<br /><br />Maybe I'm freak but I liked this very much. It was kind of mess, but who cares? I'm tired of boring and ordinary movies.\"\n",
      "10\n",
      "b'During my teens or should I say prime time I was \"eating up\" all kinds of SF novels every day of the week. It was in the Sixties and Seventies when TV was not such a important leisure time killer like today, one night in the mid seventies I watched the movie on TV I think it was ARD and I was stunned. I was impressed in a way that I can almost remember each scene even today.<br /><br />Nowadays I observe my kids playing the SIMS or something like that and I think we are close to what that Fassbender Movie expressed. I also would highly appreciate if I could buy this movie on a DVD. But in vain I tried almost everything to get a hint where. The movie MATRIX cannot touch by far the quality and the state of art of this movie. And by the way by now we do not have a glue if we were a superior reality or just one of a couple simulation models. Probably after our death we definitely will know...'\n",
      "11\n",
      "b\"Hell to Pay was a disappointment. It did not have anywhere near the substance of a B Western movie, and should in no way be compared to a fantastic movie like Silverado. The dialog was dull, the plot was torpid, the soundtrack was overbearingly unnecessary, and the acting was awful. Even the professionals could've taken some lessons from the Sunset Carson School of Acting. The only positive thing about this movie is that it showcased some of the top Cowboy shooters in the nation, but you can see them in a better light in any SASS video. The packaging of this feature makes it very enticing, and the preview is decent, but it's all over after that.\"\n",
      "12\n",
      "b\"Of all the kids movies I have seen over the years this was probably the worst. I took four kids aged from 7 to 11 and none of them liked it.<br /><br />The script seemed to be based on a Willy Wonka style story but it just didn't have anything to it.<br /><br />If you are considering seeing this movie dont waste your time, it is bad.<br /><br />They are making a sequel, so it may be worth watching to see if they can even make a worse movie, but I don't think it is possible.\"\n",
      "13\n",
      "b'If you took all the stock elements of a Shrek movie (grumpy ogre, annoying donkey, cute kitty, obligatory dance number, etc.), put them in a blender and condensed it to 20 minutes, you\\'d have this mess. Painful to watch; I may have laughed once. The story and dialogue are rushed beyond comprehension, with the voice actors sounding like they phoned in their lines. The final reworked rendition of \"The Christmas Story\" poem felt like it was written by a committee in five minutes. And boy, a little Eddie Murphy goes a long way. With its desperate attempt to be hip and current, this show will be long outdated and forgotten while classics like \"The Grinch\\xc2\\x85\" will remain timeless. A sad waste of effort by all involved, a veritable \"jumping of the shark\" for the Shrek franchise.'\n",
      "14\n",
      "b\"I saw this play on Showtime some years back in the comfort of my home and when the final note was struck, I wanted to jump off the sofa and give the production a standing ovation. As it was, I shed a tear that it was such a bunch of fantastic performances and songs. For my birthday, my kids bought me the VHS version as well as the Cd of the play with Len Cariou in the Sweeny Todd Role. <br /><br />I've shared the play with many...some finding the subject a bit sick, but none having anything but praise for the songs.<br /><br />I've always loved the interplay in songs with Angela Lansbury and George Hearn as well as Hearn and Edmund Lyndeck as Judge Turpin.<br /><br />I must own the DVD.\"\n",
      "15\n",
      "b\"One of the most magnificent movies ever made. The acting of Charles Buchinski (later known as Bronson) is simply outstanding. This is the crown on the career of director Winner, who himself was often quoted saying this was his masterpiece. The plot has been copied many times, but it's never been topped. Wildey J. Moore, the gun manufacturer, many times claimed his brand's growth since the mid 80s can be fully credited to DW3, and rightly so. This is not just a movie, this is art that many generations will admire and appreciate. Although this movie has never been fully appreciated in the USA, it has found a huge following in Europe and Asia, where the movie is regularly shown at film schools and it is still a popular hit in student cinemas all across Europe. All in all, a true classic.\"\n",
      "16\n",
      "b'Pretty.<br /><br />Pretty actresses and actors. Pretty bad script. Pretty frequent \"let\\'s strip to our undies\" scenes. Pretty fair F/X. Pretty jarring location decisions (the college dorm room looks like a high-end hotel room - probably because it was shot at a hotel). Pretty bland storyline. Pretty awful dialog. Pretty locations. Pretty annoying editing, unless you like the music video flash-cut style.<br /><br />This one isn\\'t a guilty pleasure - this is more an embarrassing one. If you must watch this, pick a good dance/techno album and turn the sound off on the movie - you\\'ll see the pretty people in their pretty black undies, and probably follow the story just fine.<br /><br />The cast may be able to act - I doubt that anyone could look skilled given the lines/plot that they had to deal with.'\n",
      "17\n",
      "b'This film is on my top 20 comedies list. This is a truly unique film. To the reviewer who said \"I must be really missing something.\"--you are correct. You are missing something. If you don\\'t have the kind of sense of humor this film requires, that\\'s one thing. But don\\'t give it a bad review because you think it\\'s \"looney\" but isn\\'t intended to be. Loony is an apt description of both what it intends to be and what it succeeds in being. I laughed much more often and much more intensely at this film than I do at most other funny films.<br /><br />Michael Almereyda brought out the best in his cast in this, his first big film, for which he was nominated for an Independent Spirit award for Best First Feature. Crispin Glover, as usual, is absolutely brilliant in some perfectly inexplicable way, and some of his very funniest lines ever were said in this film. Glover is clearly the best comic actor working right now. Harry Dean Stanton puts in an excellent comic performance. William Burroughs is incredible in a small role. Dylan McDermott was ideally cast, and Lois Chiles is completely excellent.<br /><br />All of the above are perfectly funny in their own perfect way, but this is one of Crispin\\'s finest performances--up there with his performances in River\\'s Edge and Willard. If you are a Crispin Glover fan, but have somehow overlooked this film, you need to stop whatever it is you\\'re doing and see this immediately.<br /><br />But just remember to relax first, and maybe have a beer or something. This is a great film, but it is very unusual, and I recommend being in or inducing an appropriately silly state of mind before viewing.'\n",
      "18\n",
      "b'Let me state this right from the start. I do NOT hate this show. I actually quite like some aspects of it. In fact, when i first started to watch it, I quickly became hooked. I was just starting to come out of the whole \"anime is for kids\" stereotype, and the mature elements of the show had me intrigued.<br /><br />Unfortunately, after seeing the whole series through and a few of the films, I can say that my overall disposition has changed, and it falls into almost all of the pitfalls that plague \"bad\" anime. Seven or eight friends and myself started watching this series on TV. By the end, only one friend and I were still watching and neither of us liked it.<br /><br />Allow me to explain the plot for you. You can skip this paragraph if you don\\'t want to know. Kagome is an average high school student, who one day falls into a magical well near her family run shrine. When kagome comes out of the well again, she has been transported back in time to the feudal era of japan. She meets up with many other characters and they form a group of five or so companions who set off on a journey of revenge/justice/groping in one characters case =). Overall, they are trying to recover the pieces of the sacred jewel shard which enhances the power of demons who use it.<br /><br />While there are many, MANY side stories and story arcs, there is no were near enough material to occupy 167 episodes. The only story arc that is interesting enough to watch is still sort of dull (the band of seven). After the half way mark in the series or maybe even before, it becomes painfully obvious that the plot is frozen in place and whoever made the series decided instead to put in dozens and dozens of filler episodes. <br /><br />These episodes have little to no impact on the story, and rarely even on the characters. In some cases, some characters who had an important role in the story will disappear for dozens of episodes at a time. Many episodes follow the exact same cookie cutter patterns as the stories before it. Inuyasha shoots wind-scar at enemy. Windscar deflects. Characters gasp in horror. Enemy turns out to have barrier. Characters spent three episodes trying to kill enemy before Kagome finally fires sacred arrow at him and he turns to dust. <br /><br />Also **MAJOR SPOILER: THE CONCLUSION WILL BE REVEALED** the lack of any conclusion makes it seem like you have waisted 83 hours. <br /><br />**MAJOR SPOILER OVER**<br /><br />The animation itself is above average, and in some cases excellent. Even so, reused animation cells plague most action scenes, and it is very hard to ignore them when it is clear that the exact same boulder has flown past a character five or six times in a row.<br /><br />On the brighter side however, all of the characters are very well developed and the romances between some of the characters were truly captivating. Also, the character designs (appearences) were brilliant and at times among the best I have seen, particularly with the band of seven. There is definitely no shortage of Cosplay opportunities here. Even so, I found myself hoping that a character would die just so there would be some sort of movement in the plot. And some of the humour in the show between characters is used again and again. One particular joke (sit boy) is found within the first five episodes, and you can literally expect it to be used again and again for the remaining 162 episodes.<br /><br />Although there are some good aspects of the show and it is easy to see why it has a huge following, the series seems to be dominated by obsessed fan girls who drool over Sesshomiru and InuYasha.<br /><br />Bottom line: Definitely worth checking out, but not worth watching the whole series. The first 30 episodes are very clever, original and enjoyable for anybody. But after that, it simply becomes dull and tedious. Watching a TV show should never feel like a chore, but somehow this series accomplishes just that. Don\\'t expect much from \"InuYasha\", because you will only feel let down.'\n",
      "19\n",
      "b\"This film is great. All the hi-tech machinery and technology is mind-boggling. It is packed with action, humour and not to mention, guys. You will want to see it again and again. Very very funny. Also, it has a very unique plot which is unpredictable. You wouldn't want to miss out on it.\"\n",
      "20\n",
      "b\"The Bone Collector is set in New York City & starts as one of the world's foremost criminologist's & crime scene experts Lincoln Rhyme (Denzel Washington) is involved in an accident which leaves him a bedridden quadriplegic. Jump forward four years & Alan (Gary Swanson) & his wife Lindsay Rubin (Olivia Birkelund) are kidnapped, soon after New York cop Amelia Donaghy (Angelina Jolie) is called to a crime scene & finds the buried & mutilated body of Alan. Amelia notices some unusual crime scene evidence & makes a note of it which impresses Rhyme when he is asked to work on the case, he quickly realises the evidence are in fact cryptic clues to the whereabouts of Lindsay. Having cracked the clues the cops get there too late to save her but this is just the beginning as a sadistic serial killer continues to kill & leave forensic clues for Rhyme & the police...<br /><br />Directed by Phillip Noyce I watched The Bone Collector last night & I have to say it's one of the worst big budget post The Silence of the Lambs (1991) & Se7en (1995) serial killer thrillers I have seen, in fact it makes Friday the 13th (1980) look sophisticated & realistic! The script by Jeremy Iacone was based on the book by Jeffery Deaver & is so poor on so many levels I hardly know where to begin. For a start it takes itself deadly seriously & that makes all the other flaws seem twice as bad. The character's are truly awful & I didn't believe any of them were actual human beings. First we have Lincoln Rhyme who is paralysed from the neck down & there's just not a lot the script can do with him, in fact he quite literally can't do anything but lie in bed for the whole film. He is seemingly impressed with Amelia because she stopped a train & thought a fresh footprint near a murdered person might be of relevance, I'm not being funny here but wouldn't any cop realise a footprint near a murder victim might be of some relevance? Why is he so impressed with her? Then there's Capatin Cheney who is not only unlikable & shouts at everyone for no apparent reason but is so incompetent that he failed to connect several murders committed in a short space of time where each victim had sections of flesh & skin surgically removed from their bodies, how exactly did this guy get to be a police Captain? Then there's the killer whose motives are less than plausible, are you trying to tell me they devised an intricate plan to murder at least seven people because they spent six years in jail for something they actually did? If they wanted revenge on Rhyme why did they kill all those other people who had no connection to anything, I could maybe just about buy someone wanting revenge against the guy who put them away but not to kill several other people who have no connection to themselves, the intended target Rhyme anything else. Also after devising an intricate plan to kill these people & get away with it they suddenly turn into the most stupid person in history as despite holding a large knife & being able to walk & use their arms they are actually defeated & nearly killed by a quadriplegic who has no movement in his body below his neck! How did that happen? I should also mention Amelia who is a terrible character, she actually buys her own camera to take crime scene photo's & shoots rats for no apparent reason.<br /><br />Besides some of the worst written character's ever the story & plot isn't much better We never find out why the killer is using The Bone Collector book as inspiration We never find out why the killer was taking strips of flesh from his victims. It's never explained why a rookie cop like Amelia is allowed to enter crime scenes even before the proper forensic teams. There is no reason given for why the killer chooses his victims. Also the killers clues are a little obscure aren't they? I mean a bloody animal bone & shaved rat hair? Logically how does someone go from a bone & rat hair to the exact pinpoint location of the next victim & has the whole of New York to choose from? There's some nonsense about a bird that sits on Rhymes window ledge which is just totally random & at almost two hours The Bone Collector is really slow going. There is so much wrong with The Bone Collector & it all comes down to one of the worst scripts ever, it's atrocious on all levels & has zero credibility. Apparently Angelina Jolie has stated that she shot nude scenes for this film but they were cut because they were felt to be too distracting.<br /><br />With a supposed budget of about $48,000,000 The Bone Collector is well made with good production values & that Hollywood gloss about it. I also must add right now that I think Angelina Jolie gives one of the worst performances I have ever seen, I think she is absolutely terrible in this. Denzel Washington just sort of lies there really, Queen Latifah is awful & even Michael Rooker can't do much as he is stuck with a clich\\xc3\\xa9d & one dimensional character.<br /><br />The Bone Collector has to be one of the worst Hollywood films I have seen in a while, I saw it for free on telly last night & I still feel cheated & ripped-off. There are just so many things to poke holes at it's silly, embarrassingly awful or should that be awfully embarrassing? Works either way to be honest...\"\n",
      "21\n",
      "b'\"Dead Man Walking\" is a film not about the death penalty, but about the people involved in a death penalty case -- the killer, the families whose kids were killed, the nun who becomes his spiritual advisor, and what happens. It tells the story with little fanfare but a lot of compassion and sensitivity. I have it on DVD, and every time I watch it (not often, it\\'s never an easy film to watch) I\\'m more impressed by what Tim Robbins and the entire cast did here. So revealing that it could be a documentary, so compelling you can\\'t take your eyes away, so subtle and yet so powerful... \"Dead Man Walking\" is nothing short of a masterpiece. It doesn\\'t matter whether you\\'re for or against the death penalty (or even have no opinion), this movie will have you thinking about the issues for sure. It takes a courageous screenwriter and director to look this material in the face without flinching even once, and everyone involved in the film pulls it off -- there isn\\'t a single scene that rings false. A masterful film, but don\\'t expect light viewing... to some, the final scenes could be more graphic than anything imaginable, even though no blood or violence is shown. You get drawn into this film and become a participant, and there\\'s a character for just about everyone to identify with. 10/10.'\n",
      "22\n",
      "b'Sitting in a big wing chair with a huge book in his lap, the one and only Bela Lugosi looks into the camera and, in a dreadful vocal delivery that sounds as if he were mocking a reading of Shakespeare, intones sloooow-ly: \"Man\\'s constant groping of things unknown, drawing from the endless reaches of time, brings to light many startling things; (snicker); startling?, because they seem new (Lugosi\\'s eyes now bulging, with raised eyebrows, and mouth sneering, he continues) but most are not new, the signs of the ages\" (cue a visual of lightening, accompanied by the sound of thunder which then continues to rumble for an astonishing 86 seconds).<br /><br />And so begins what is arguably the worst film ever made. This \"movie\" almost defies description. Told in semi-docudrama style with an unseen narrator explaining the plot ... such as it is ... the story revolves around the vicissitudes of a man named Glen (Ed Wood, Jr.) who cross-dresses; hence the reference to Glenda. The film has no real structure. Instead, it consists mostly of a random assortment of vignettes that may ... or may not ... relate to Glen or to the cross-dressing motif. One long sequence consists of some unknown woman wriggling on a sofa, followed by a man whipping a woman in what we would today refer to as S&M.<br /><br />Then, at odd moments Bela reappears, for no apparent reason, and babbles more inane dialogue, like: \"When he\\'s wrong because he does right, and when he\\'s right because he does wrong; pull the string, dance to that.\" Huh?<br /><br />About twenty percent of the film\\'s visuals consist of stock footage, accompanied by a VO that relates to the story motif but not the visuals. Hence, we see stock footage of: bustling city streets, freeway traffic, a thunderous herd of buffalo, and a playground full of kids. But it gets worse. In a film about cross-dressing, we have 58 consecutive seconds of stock footage of a foundry furnace making hot steel, and 84 consecutive seconds of battle scenes from WWII.<br /><br />Even the simplest items are botched. In one scene we see a newspaper headline that reads \"Man Nabbed Dressed as Girl\". Underneath the headline, which has clearly been glued or pasted on, the article is about ... taxes. In one of my favorite scenes, an off-screen woman spouts out: \"airplanes, why it\\'s against the creator\\'s will\", in a voice that sounds like she\\'s just inhaled helium.<br /><br />Except for the performance of Lyle Talbot, the acting is uniformly horrendous. Production design is cheap looking and drab; (but you gotta love that tacky wallpaper). The editing is sloppy. Most of the background music is suitable only for 1950 style elevators. The B&W cinematography has way too much contrast. And the costumes look like something that came from a thrift store.<br /><br />This film is so bad it makes \"Plan 9 From Outer Space\" look like \"Citizen Kane\", by comparison. I just don\\'t know how one could make a film any worse than Ed Wood\\'s \"Glen Or Glenda\". But thankfully, it\\'s got Bela Lugosi in it. Every time he opened his mouth, and gazed into the camera with those big, bulging eyes, I about fell on the floor laughing.'\n",
      "23\n",
      "b\"This film makes about as much sense as an 'Ozzie & Harriet' or a 'Father Knows Best' episode. An old copy of Reader's Digest (circa 1962) would provide more insight into modern life, or the relationship between a father and a daughter, than this weird concoction.<br /><br />I was surprised with Diane Keaton. She appears to sleepwalk through the film. (Given the film's title, I realize that hers was a supporting role but even Martin Short managed a distinct, supporting character.)<br /><br />I can understand the attraction of an imaginary world created in a good romantic comedy. But this film is the prozac version of an imaginary world. I'm frightened to consider that anyone could enjoy it even as pure fantasy.\"\n",
      "24\n"
     ]
    }
   ],
   "source": [
    "cnt = 0\n",
    "for it in test_data_2:\n",
    "    if cnt % 1000 == 0:\n",
    "        print(str(it))\n",
    "        print(cnt //1000)\n",
    "    cnt += 1\n",
    "    tokenizer.fit_on_texts(str(it))\n"
   ]
  },
  {
   "cell_type": "code",
   "execution_count": 15,
   "metadata": {},
   "outputs": [
    {
     "name": "stdout",
     "output_type": "stream",
     "text": [
      "0\n",
      "1000\n",
      "2000\n",
      "3000\n",
      "4000\n",
      "5000\n",
      "6000\n",
      "7000\n",
      "8000\n",
      "9000\n",
      "10000\n",
      "11000\n",
      "12000\n",
      "13000\n",
      "14000\n",
      "15000\n",
      "16000\n",
      "17000\n",
      "18000\n",
      "19000\n",
      "20000\n",
      "21000\n",
      "22000\n",
      "23000\n",
      "24000\n"
     ]
    }
   ],
   "source": [
    "cnt = 0\n",
    "tokenized_word_list_test = []\n",
    "for it in test_data_2:\n",
    "    if cnt % 1000 == 0:\n",
    "        print(len(tokenized_word_list_test))\n",
    "    cnt += 1\n",
    "    tokenized_word_list_test.append(tokenizer.texts_to_sequences(str(it)))\n"
   ]
  },
  {
   "cell_type": "code",
   "execution_count": 16,
   "metadata": {},
   "outputs": [],
   "source": [
    "tokenized_word_list_2_test = []\n",
    "for it in test_data_2:\n",
    "    temp = tokenizer.texts_to_sequences(str(it))\n",
    "    newL = []\n",
    "    for it2 in temp:\n",
    "        if it2 == []:\n",
    "            continue\n",
    "        newL.append(it2[0])\n",
    "    tokenized_word_list_2_test.append(newL)"
   ]
  },
  {
   "cell_type": "code",
   "execution_count": 17,
   "metadata": {},
   "outputs": [],
   "source": [
    "X_test_padded = pad_sequences(tokenized_word_list_2_test, maxlen = maxlen, padding='post')"
   ]
  },
  {
   "cell_type": "code",
   "execution_count": 18,
   "metadata": {},
   "outputs": [],
   "source": [
    "test_model = tf.keras.models.load_model('homework2/imdb')"
   ]
  },
  {
   "cell_type": "code",
   "execution_count": 20,
   "metadata": {},
   "outputs": [
    {
     "name": "stdout",
     "output_type": "stream",
     "text": [
      "782/782 [==============================] - 29s 38ms/step - loss: 0.5222 - accuracy: 0.7711\n"
     ]
    },
    {
     "data": {
      "text/plain": [
       "[0.5221703052520752, 0.771120011806488]"
      ]
     },
     "execution_count": 20,
     "metadata": {},
     "output_type": "execute_result"
    }
   ],
   "source": [
    "test_model.evaluate(np.array(X_test_padded), np.array(test_label_2))"
   ]
  },
  {
   "cell_type": "code",
   "execution_count": null,
   "metadata": {},
   "outputs": [],
   "source": [
    "model.evaluate(X_test_padded, test_label_2)"
   ]
  },
  {
   "cell_type": "code",
   "execution_count": null,
   "metadata": {},
   "outputs": [],
   "source": [
    "MAX_SEQ_LEN = 128\n",
    "MAX_TOKENS = 5000\n",
    "\n",
    "# load the text dataset\n",
    "\n",
    "\n",
    "# Create TextVectorization layer\n",
    "vectorize_layer = tf.keras.layers.experimental.preprocessing.TextVectorization(\n",
    "    max_tokens=MAX_TOKENS,\n",
    "    output_mode='int',\n",
    "    output_sequence_length=MAX_SEQ_LEN)\n",
    "\n",
    "# Use `adapt` to create a vocabulary mapping words to integers\n",
    "#train_text = \n",
    "vectorize_layer.adapt(train_data.map(lambda x: x['text']))\n",
    "\n"
   ]
  },
  {
   "cell_type": "code",
   "execution_count": null,
   "metadata": {},
   "outputs": [],
   "source": [
    "# Let's print out a batch to see what it looks like in text and in integers\n",
    "for text in train_text:\n",
    "    text = tf.convert_to_tensor([text], dtype='string')\n",
    "    print(list(zip(text.numpy(), vectorize_layer(text).numpy())))\n",
    "    break"
   ]
  },
  {
   "cell_type": "code",
   "execution_count": null,
   "metadata": {},
   "outputs": [],
   "source": [
    "VOCAB_SIZE = len(vectorize_layer.get_vocabulary())\n",
    "EMBEDDING_SIZE = int(np.sqrt(VOCAB_SIZE))\n",
    "print(\"Vocab size is {} and is embedded into {} dimensions\".format(VOCAB_SIZE, EMBEDDING_SIZE))\n",
    "\n",
    "embedding_layer = tf.keras.layers.Embedding(VOCAB_SIZE, EMBEDDING_SIZE)"
   ]
  },
  {
   "cell_type": "code",
   "execution_count": null,
   "metadata": {},
   "outputs": [],
   "source": [
    "# for batch in validation_data:\n",
    "#     print(batch)"
   ]
  },
  {
   "cell_type": "code",
   "execution_count": null,
   "metadata": {},
   "outputs": [],
   "source": [
    "query_input = Input(shape=(None,), dtype='float')\n",
    "value_input = Input(shape=(None,), dtype='float')\n",
    "\n",
    "# Query embeddings of shape [batch_size, Tq, dimension].\n",
    "query_embeddings = embedding_layer(query_input)\n",
    "# Value embeddings of shape [batch_size, Tv, dimension].\n",
    "value_embeddings = embedding_layer(value_input)\n",
    "\n",
    "# CNN layer.\n",
    "cnn_layer = Conv1D(\n",
    "    filters=100,\n",
    "    kernel_size=4,\n",
    "    padding='same')\n",
    "# Query encoding of shape [batch_size, Tq, filters].\n",
    "query_seq_encoding = cnn_layer(query_embeddings)\n",
    "# Value encoding of shape [batch_size, Tv, filters].\n",
    "value_seq_encoding = cnn_layer(value_embeddings)\n",
    "\n",
    "# Query-value attention of shape [batch_size, Tq, filters].\n",
    "query_value_attention_seq = tf.keras.layers.Attention()(\n",
    "    [query_seq_encoding, value_seq_encoding])\n",
    "\n",
    "# Reduce over the sequence axis to produce encodings of shape\n",
    "# [batch_size, filters].\n",
    "query_encoding = tf.keras.layers.GlobalAveragePooling1D()(\n",
    "    query_seq_encoding)\n",
    "query_value_attention = tf.keras.layers.GlobalAveragePooling1D()(\n",
    "    query_value_attention_seq)\n",
    "print(query_value_attention)\n",
    "# Concatenate query and document encodings to produce a DNN input layer.\n",
    "input_layer = tf.keras.layers.Concatenate()([query_encoding, query_value_attention])\n"
   ]
  },
  {
   "cell_type": "code",
   "execution_count": null,
   "metadata": {},
   "outputs": [],
   "source": [
    "print(type(train_data_2[0]))"
   ]
  },
  {
   "cell_type": "code",
   "execution_count": null,
   "metadata": {},
   "outputs": [],
   "source": [
    "BIDI1 = tf.keras.layers.Bidirectional(tf.keras.layers.LSTM(1024, return_sequences=True))\n",
    "GlobalPool = tf.keras.layers.GlobalMaxPooling1D()\n",
    "LSTM1 = tf.keras.layers.LSTM(512, return_sequences = True)\n",
    "LSTM2 = tf.keras.layers.LSTM(256, return_sequences = True)\n",
    "gru1 = tf.keras.layers.GRU(256, return_sequences = True) \n",
    "gru2 = tf.keras.layers.GRU(256)\n",
    "\n",
    "# input_layer = BIDI1(input_layer)\n",
    "# input_layer = GlobalPool(input_layer)\n",
    "# input_layer = tf.keras.layers.LSTM(512)(input_layer)\n",
    "# input_layer = tf.keras.layers.LSTM(256)(input_layer)\n",
    "\n",
    "output_layer = tf.keras.layers.Dense(1, activation=\"sigmoid\")\n",
    "\n",
    "model = keras.Model(inputs=input_layer, outputs=output_layer, name=\"crying_model\")\n",
    "model.summary()"
   ]
  },
  {
   "cell_type": "code",
   "execution_count": null,
   "metadata": {},
   "outputs": [],
   "source": [
    "# We'll make a conv layer to produce the query and value tensors\n",
    "query_layer = tf.keras.layers.Conv1D(\n",
    "    filters=100,\n",
    "    kernel_size=4,\n",
    "    padding='same')\n",
    "value_layer = tf.keras.layers.Conv1D(\n",
    "    filters=100,\n",
    "    kernel_size=4,\n",
    "    padding='same')\n",
    "# Then they will be input to the Attention layer\n",
    "attention = tf.keras.layers.Attention()\n",
    "concat = tf.keras.layers.Concatenate()\n",
    "\n",
    "cells = [tf.keras.layers.LSTMCell(256), tf.keras.layers.LSTMCell(64)]\n",
    "rnn = tf.keras.layers.RNN(cells)\n",
    "output_layer = tf.keras.layers.Dense(1)\n",
    "\n",
    "cnt = 0\n",
    "loss_values = []\n",
    "for epoch in range(5):\n",
    "    loss_values_per_epoch = []\n",
    "    for batch in train_data.batch(32):\n",
    "        text = batch['text']\n",
    "        embeddings = embedding_layer(vectorize_layer(text))\n",
    "        query = query_layer(embeddings)\n",
    "        value = value_layer(embeddings)\n",
    "        query_value_attention = attention([query, value])\n",
    "        #print(\"Shape after attention is (batch, seq, filters):\", query_value_attention.shape)\n",
    "        attended_values = concat([query, query_value_attention])\n",
    "        #print(\"Shape after concatenating is (batch, seq, filters):\", attended_values.shape)\n",
    "        logits = output_layer(rnn(attended_values))\n",
    "        loss = tf.keras.losses.binary_crossentropy(tf.expand_dims(batch['label'], -1), logits, from_logits=True)\n",
    "        loss_values_per_epoch.append(loss)\n",
    "    \n",
    "print(tf.reduce_mean(loss_value))"
   ]
  },
  {
   "cell_type": "code",
   "execution_count": null,
   "metadata": {},
   "outputs": [],
   "source": []
  }
 ],
 "metadata": {
  "kernelspec": {
   "display_name": "Python (tensorflow-env)",
   "language": "python",
   "name": "tensorflow-env"
  },
  "language_info": {
   "codemirror_mode": {
    "name": "ipython",
    "version": 3
   },
   "file_extension": ".py",
   "mimetype": "text/x-python",
   "name": "python",
   "nbconvert_exporter": "python",
   "pygments_lexer": "ipython3",
   "version": "3.8.6"
  }
 },
 "nbformat": 4,
 "nbformat_minor": 2
}
