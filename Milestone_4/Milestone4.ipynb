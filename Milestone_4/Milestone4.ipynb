{
 "cells": [
  {
   "cell_type": "code",
   "execution_count": 1,
   "metadata": {
    "id": "4Q8QA95OvAwW"
   },
   "outputs": [],
   "source": [
    "from __future__ import print_function\n",
    "\n",
    "import numpy as np                 # to use numpy arrays\n",
    "import tensorflow as tf            # to specify and run computation graphs|\n",
    "import tensorflow_datasets as tfds # to load training data\n",
    "import keras\n",
    "import pandas as pd\n",
    "from keras import backend\n",
    "from tensorflow.keras import Model, initializers, regularizers, constraints\n",
    "from tensorflow.keras.models import Sequential\n",
    "from tensorflow.keras.layers import LSTM, GRU, Reshape, Bidirectional, Dense, Input, Dropout, LeakyReLU, Concatenate, PReLU, Flatten\n",
    "from keras.callbacks import EarlyStopping, ModelCheckpoint\n",
    "import matplotlib.pyplot as plt \n",
    "from math import sqrt\n",
    "import csv"
   ]
  },
  {
   "cell_type": "code",
   "execution_count": 2,
   "metadata": {
    "id": "RxD_HoYCvFOl"
   },
   "outputs": [],
   "source": [
    "\n",
    "inputs = pd.read_csv(\"AllVariables.csv\")\n",
    "\n",
    "keys = []\n",
    "for it in inputs:\n",
    "    keys.append(it)\n",
    "    \n",
    "distribution = [4, 9, 25, 26] #horrible design\n",
    "\n",
    "number_of_tests = len(inputs[keys[0]])\n"
   ]
  },
  {
   "cell_type": "code",
   "execution_count": 3,
   "metadata": {
    "id": "0if9F-tkvig0"
   },
   "outputs": [],
   "source": [
    "input_short_term = []\n",
    "input_long_term = []\n",
    "output = []\n",
    "\n",
    "for i in range(number_of_tests):\n",
    "    instance = []\n",
    "    if pd.isna(inputs[keys[0]][i]):\n",
    "        continue\n",
    "    for j in range(distribution[0], distribution[1]):         \n",
    "        instance.append(round(float(inputs[keys[j]][i])/100, 3))\n",
    "\n",
    "    input_short_term.append(instance)\n",
    "    instance = []\n",
    "    for j in range(distribution[1], distribution[2]):\n",
    "        instance.append(round(float(inputs[keys[j]][i])/100, 3))\n",
    "    #for j in range(distribution[3], distribution[4]):\n",
    "    #    instance.append(float(inputs[keys[j]][i])/100)\n",
    "    input_long_term.append(instance)\n",
    "\n",
    "    output.append(float(inputs[keys[distribution[3] - 1]][i])/100)\n"
   ]
  },
  {
   "cell_type": "code",
   "execution_count": 4,
   "metadata": {
    "id": "EP8SGjrIxLqz"
   },
   "outputs": [],
   "source": [
    "training_input_short_term = []\n",
    "training_input_long_term = []\n",
    "training_output = []\n",
    "\n",
    "testing_input_short_term = []\n",
    "testing_input_long_term = []\n",
    "testing_output = []\n",
    "\n",
    "for i in range(8):\n",
    "    for j in range(13):\n",
    "            training_input_short_term.append(input_short_term[j])\n",
    "            training_input_long_term.append(input_long_term[j])\n",
    "            training_output.append(output[j])\n",
    "    del input_short_term[:13]\n",
    "    del input_long_term[:13]\n",
    "    del output[:13]\n",
    "\n",
    "        #training_input_short_term = np.delete(input_short_term, j)\n",
    "    for k in range(1):\n",
    "        testing_input_short_term.append(input_short_term[k])\n",
    "        testing_input_long_term.append(input_long_term[k])\n",
    "        testing_output.append(output[k])\n",
    "    del input_short_term[0]\n",
    "    del input_long_term[0]\n",
    "    del output[0] "
   ]
  },
  {
   "cell_type": "code",
   "execution_count": 5,
   "metadata": {
    "colab": {
     "base_uri": "https://localhost:8080/"
    },
    "id": "U_EfhuhWxO-V",
    "outputId": "5f0055c3-14dd-467c-f195-0c15fee76e56"
   },
   "outputs": [],
   "source": [
    "# print(len(training_input_short_term))\n",
    "# print(len(training_input_long_term))\n",
    "# print(len(training_input_long_term))\n",
    "\n",
    "# print(len(testing_input_short_term))\n",
    "# print(len(testing_input_long_term))\n",
    "# print(len(testing_output))\n",
    "\n",
    "# print(training_input_long_term)"
   ]
  },
  {
   "cell_type": "code",
   "execution_count": null,
   "metadata": {},
   "outputs": [],
   "source": []
  },
  {
   "cell_type": "code",
   "execution_count": 6,
   "metadata": {
    "colab": {
     "base_uri": "https://localhost:8080/"
    },
    "id": "mxjSdx1-xUlu",
    "outputId": "cc35909a-fd5a-49d3-9412-534628a699cd"
   },
   "outputs": [],
   "source": [
    "lVLabel = [\"Capital_Investment_test\", \"Labor_Force_Participation_test\", \"Fixed_Broadband_test\",\n",
    "          \"RandD_test\", \"Property_Rights_test\", \"Freedom_From_Corruption_test\", \"Fiscal_Freedom_test\", \"Business_Freedom_test\",\n",
    "          \"Labor_Freedom_test\", \"Monetary_Freedom_test\", \"Trade_Freedom_test\", \"Investment_Freedom_test\", \"Financial_Freedom_test\",\n",
    "          \"Economic_Freedom_Overall_test\", \"Pop_Above_65_test\", \"Savings_As_GDP_test\"]\n",
    "\n",
    "num_long_term_variable = len(lVLabel)\n",
    "\n",
    "trainLV = [[] for i in range(num_long_term_variable)]\n",
    "\n",
    "testLV  = [[] for i in range(num_long_term_variable)]"
   ]
  },
  {
   "cell_type": "code",
   "execution_count": 7,
   "metadata": {
    "id": "S_tR8fM-xQc4"
   },
   "outputs": [],
   "source": [
    "\n",
    "for i in range(len(training_input_long_term)):\n",
    "    for j in range(num_long_term_variable):\n",
    "        trainLV[j].append(training_input_long_term[i][j])\n",
    "        \n",
    "for i in range(num_long_term_variable):\n",
    "    trainLV[i] = np.array(trainLV[i])"
   ]
  },
  {
   "cell_type": "code",
   "execution_count": 8,
   "metadata": {
    "id": "3ISYHI29xSzB"
   },
   "outputs": [],
   "source": [
    "\n",
    "for i in range(len(testing_input_long_term)):\n",
    "    for j in range(num_long_term_variable):\n",
    "        testLV[j].append(training_input_long_term[i][j])\n",
    "\n",
    "for i in range(num_long_term_variable):\n",
    "    testLV[i] = np.array(testLV[i])"
   ]
  },
  {
   "cell_type": "code",
   "execution_count": 9,
   "metadata": {},
   "outputs": [],
   "source": [
    "training_input_short_term = np.array(training_input_short_term)\n",
    "training_input_long_term = np.array(training_input_long_term)\n",
    "training_output = np.array(training_output)\n",
    "\n",
    "testing_input_short_term = np.array(testing_input_short_term)\n",
    "testing_input_long_term = np.array(testing_input_long_term)\n",
    "testing_output = np.array(testing_output)\n"
   ]
  },
  {
   "cell_type": "code",
   "execution_count": null,
   "metadata": {
    "colab": {
     "base_uri": "https://localhost:8080/"
    },
    "id": "LogWXh1hx0yf",
    "outputId": "694b1d45-2bb3-408c-e329-7eafcfb88d24"
   },
   "outputs": [
    {
     "name": "stdout",
     "output_type": "stream",
     "text": [
      "Model: \"functional_1\"\n",
      "__________________________________________________________________________________________________\n",
      "Layer (type)                    Output Shape         Param #     Connected to                     \n",
      "==================================================================================================\n",
      "input_1 (InputLayer)            [(None, 5)]          0                                            \n",
      "__________________________________________________________________________________________________\n",
      "dense (Dense)                   (None, 50)           300         input_1[0][0]                    \n",
      "__________________________________________________________________________________________________\n",
      "leaky_re_lu (LeakyReLU)         (None, 50)           0           dense[0][0]                      \n",
      "__________________________________________________________________________________________________\n",
      "dropout (Dropout)               (None, 50)           0           leaky_re_lu[0][0]                \n",
      "__________________________________________________________________________________________________\n",
      "dense_1 (Dense)                 (None, 50)           2550        dropout[0][0]                    \n",
      "__________________________________________________________________________________________________\n",
      "leaky_re_lu_1 (LeakyReLU)       (None, 50)           0           dense_1[0][0]                    \n",
      "__________________________________________________________________________________________________\n",
      "dropout_1 (Dropout)             (None, 50)           0           leaky_re_lu_1[0][0]              \n",
      "__________________________________________________________________________________________________\n",
      "dense_2 (Dense)                 (None, 50)           2550        dropout_1[0][0]                  \n",
      "__________________________________________________________________________________________________\n",
      "leaky_re_lu_2 (LeakyReLU)       (None, 50)           0           dense_2[0][0]                    \n",
      "__________________________________________________________________________________________________\n",
      "input_2 (InputLayer)            [(None, 5)]          0                                            \n",
      "__________________________________________________________________________________________________\n",
      "input_3 (InputLayer)            [(None, 1)]          0                                            \n",
      "__________________________________________________________________________________________________\n",
      "concatenate (Concatenate)       (None, 56)           0           leaky_re_lu_2[0][0]              \n",
      "                                                                 input_2[0][0]                    \n",
      "                                                                 input_3[0][0]                    \n",
      "__________________________________________________________________________________________________\n",
      "dropout_2 (Dropout)             (None, 56)           0           concatenate[0][0]                \n",
      "__________________________________________________________________________________________________\n",
      "dense_3 (Dense)                 (None, 56)           3192        dropout_2[0][0]                  \n",
      "__________________________________________________________________________________________________\n",
      "dropout_3 (Dropout)             (None, 56)           0           dense_3[0][0]                    \n",
      "__________________________________________________________________________________________________\n",
      "reshape (Reshape)               (None, 1, 56)        0           dropout_3[0][0]                  \n",
      "__________________________________________________________________________________________________\n",
      "lstm (LSTM)                     (None, 1, 100)       62800       reshape[0][0]                    \n",
      "__________________________________________________________________________________________________\n",
      "dropout_4 (Dropout)             (None, 1, 100)       0           lstm[0][0]                       \n",
      "__________________________________________________________________________________________________\n",
      "lstm_1 (LSTM)                   (None, 1, 100)       80400       dropout_4[0][0]                  \n",
      "__________________________________________________________________________________________________\n",
      "dropout_5 (Dropout)             (None, 1, 100)       0           lstm_1[0][0]                     \n",
      "__________________________________________________________________________________________________\n",
      "lstm_2 (LSTM)                   (None, 1, 200)       240800      dropout_5[0][0]                  \n",
      "__________________________________________________________________________________________________\n",
      "dense_4 (Dense)                 (None, 1)            2           input_3[0][0]                    \n",
      "__________________________________________________________________________________________________\n",
      "dropout_6 (Dropout)             (None, 1, 200)       0           lstm_2[0][0]                     \n",
      "__________________________________________________________________________________________________\n",
      "reshape_1 (Reshape)             (None, 1, 1)         0           dense_4[0][0]                    \n",
      "__________________________________________________________________________________________________\n",
      "lstm_3 (LSTM)                   (None, 1, 100)       120400      dropout_6[0][0]                  \n",
      "__________________________________________________________________________________________________\n",
      "lstm_5 (LSTM)                   (None, 1, 100)       40800       reshape_1[0][0]                  \n",
      "__________________________________________________________________________________________________\n",
      "lstm_4 (LSTM)                   (None, 1, 1)         408         lstm_3[0][0]                     \n",
      "__________________________________________________________________________________________________\n",
      "lstm_6 (LSTM)                   (None, 1, 1)         408         lstm_5[0][0]                     \n",
      "__________________________________________________________________________________________________\n",
      "concatenate_1 (Concatenate)     (None, 2, 1)         0           lstm_4[0][0]                     \n",
      "                                                                 lstm_6[0][0]                     \n",
      "__________________________________________________________________________________________________\n",
      "dense_5 (Dense)                 (None, 2, 1)         2           concatenate_1[0][0]              \n",
      "==================================================================================================\n",
      "Total params: 554,612\n",
      "Trainable params: 554,612\n",
      "Non-trainable params: 0\n",
      "__________________________________________________________________________________________________\n",
      "Capital_Investment_test\n",
      "3/3 [==============================] - 0s 5ms/step - loss: 0.0161 - root_mean_squared_error: 0.0182\n",
      "Labor_Force_Participation_test\n",
      "3/3 [==============================] - 0s 5ms/step - loss: 0.0116 - root_mean_squared_error: 0.0139\n",
      "Fixed_Broadband_test\n"
     ]
    }
   ],
   "source": [
    "short_term_input1 = Input(shape=(5,))\n",
    "short_term_input2 = Input(shape=(5,))\n",
    "long_term_input1 = Input(shape=(1,))\n",
    "\n",
    "x1 = Dense(50)(short_term_input1)\n",
    "x1 = LeakyReLU(0.2)(x1)\n",
    "x1 = Dropout(0.35)(x1)\n",
    "\n",
    "x1 = Dense(50)(x1)\n",
    "x1 = LeakyReLU(0.2)(x1)\n",
    "x1 = Dropout(0.5)(x1)\n",
    "\n",
    "x1 = Dense(50)(x1)\n",
    "x1 = LeakyReLU(0.2)(x1)\n",
    "\n",
    "con1 = Concatenate(axis=1)([x1, short_term_input2, long_term_input1])\n",
    "con1 = Dropout(0.35)(con1)\n",
    "\n",
    "con1 = Dense(56, activation = \"relu\")(con1)\n",
    "con1 = Dropout(0.2)(con1)\n",
    "\n",
    "con1 = Reshape(target_shape = (1, 56))(con1)\n",
    "\n",
    "con1 = LSTM(100, return_sequences = True)(con1)\n",
    "con1 = Dropout(0.2)(con1)\n",
    "\n",
    "con1 = LSTM(100, return_sequences = True)(con1)\n",
    "con1 = Dropout(0.35)(con1)\n",
    "\n",
    "con1 = LSTM(200, return_sequences = True)(con1)\n",
    "con1 = Dropout(0.35)(con1)\n",
    "con1 = LSTM(100, return_sequences = True)(con1)\n",
    "con1 = LSTM(1, return_sequences = True)(con1)\n",
    "\n",
    "x2 = Dense(1, activation = None)(long_term_input1)\n",
    "x2 = Reshape(target_shape= (1, 1))(x2)\n",
    "x2 = LSTM(100, return_sequences = True)(x2)\n",
    "x2 = LSTM(1, return_sequences = True)(x2)\n",
    "\n",
    "con2 = Concatenate(axis=1)([con1, x2]) \n",
    "\n",
    "output = Dense(1, activation = None)(con2)\n",
    "\n",
    "SingleLongTermmodel = Model(inputs=[short_term_input1, short_term_input2, long_term_input1], outputs=output)\n",
    "SingleLongTermmodel.summary()\n",
    "SingleLongTermmodel.compile(optimizer=tf.keras.optimizers.Adam(learning_rate=0.005), loss='mae', metrics = [tf.keras.metrics.RootMeanSquaredError()])\n",
    "\n",
    "count = 0\n",
    "top = [\"Long term variable\", \"MAE\"]\n",
    "output_list = []\n",
    "for item in trainLV:\n",
    "  print(lVLabel[count])\n",
    "  history = SingleLongTermmodel.fit([training_input_short_term, training_input_short_term, item], training_output, epochs = 40, batch_size = 3, verbose=0)\n",
    "  history2 = SingleLongTermmodel.evaluate([testing_input_short_term, testing_input_short_term, testLV[count]], testing_output, batch_size=3, verbose=1)\n",
    "  output_list.append([lVLabel[count], round(history2[0], 4)*100])\n",
    "  count+=1\n",
    "\n",
    "with open('/content/gdrive/My Drive/Colab Notebooks/FinalResults.csv', 'w', newline='') as results_file:\n",
    "    writer = csv.writer(results_file)\n",
    "    writer.writerow(top)\n",
    "    writer.writerows(output_list)\n",
    "    count+=1\n",
    "\n",
    "# For easy access\n",
    "# training_input_short_term\n",
    "# training_input_long_term"
   ]
  }
 ],
 "metadata": {
  "colab": {
   "collapsed_sections": [],
   "name": "Milestone4.ipynb",
   "provenance": []
  },
  "kernelspec": {
   "display_name": "Python (tensorflow-env)",
   "language": "python",
   "name": "tensorflow-env"
  },
  "language_info": {
   "codemirror_mode": {
    "name": "ipython",
    "version": 3
   },
   "file_extension": ".py",
   "mimetype": "text/x-python",
   "name": "python",
   "nbconvert_exporter": "python",
   "pygments_lexer": "ipython3",
   "version": "3.8.6"
  }
 },
 "nbformat": 4,
 "nbformat_minor": 1
}
